{
 "cells": [
  {
   "cell_type": "markdown",
   "metadata": {},
   "source": [
    "### 중심극한정리 활용 문제"
   ]
  },
  {
   "cell_type": "markdown",
   "metadata": {},
   "source": [
    "어느 회사에서 100명의 직원과 망년회를 가지려고 한다.\n",
    "메뉴는 스테이크이다. **최소** 얼마만큼의 고기를 준비해야 할까?\n",
    "- 1인당 평균 소비량은 350 그램이고,# (모평균)\n",
    "- 1인당 표준편차는 50 그램이다. # (모표준편차) -> 100명의 표준편차를 말하는게 아니라 일반 성인 1인당의..."
   ]
  },
  {
   "cell_type": "code",
   "execution_count": 1,
   "metadata": {},
   "outputs": [],
   "source": [
    "import numpy as np\n",
    "import scipy.stats as st"
   ]
  },
  {
   "cell_type": "code",
   "execution_count": 7,
   "metadata": {},
   "outputs": [],
   "source": [
    "# 중심극한정리를 적용하면, 모집단(100명의) 1인당 평균 소비량은 정규분포를 근사할 수 있다.\n",
    "n=64\n",
    "x_mean = 300\n",
    "SEM = 30/np.sqrt(64) # Standard Error of Mean (오차)"
   ]
  },
  {
   "cell_type": "markdown",
   "metadata": {},
   "source": [
    "부족할 가능성 0%라면:"
   ]
  },
  {
   "cell_type": "code",
   "execution_count": 8,
   "metadata": {},
   "outputs": [
    {
     "data": {
      "text/plain": [
       "inf"
      ]
     },
     "execution_count": 8,
     "metadata": {},
     "output_type": "execute_result"
    }
   ],
   "source": [
    "st.norm.ppf(q=1.0, loc = x_mean, scale=SEM)"
   ]
  },
  {
   "cell_type": "markdown",
   "metadata": {},
   "source": [
    "부족할 가능성 2.5% 허락한다면:"
   ]
  },
  {
   "cell_type": "code",
   "execution_count": 9,
   "metadata": {},
   "outputs": [
    {
     "data": {
      "text/plain": [
       "307.3498649420252"
      ]
     },
     "execution_count": 9,
     "metadata": {},
     "output_type": "execute_result"
    }
   ],
   "source": [
    "st.norm.ppf(q=0.975, loc = x_mean, scale=SEM)"
   ]
  },
  {
   "cell_type": "code",
   "execution_count": 10,
   "metadata": {},
   "outputs": [
    {
     "data": {
      "text/plain": [
       "306.168201101068"
      ]
     },
     "execution_count": 10,
     "metadata": {},
     "output_type": "execute_result"
    }
   ],
   "source": [
    "st.norm.ppf(q=0.95, loc = x_mean, scale=SEM)"
   ]
  },
  {
   "cell_type": "code",
   "execution_count": null,
   "metadata": {},
   "outputs": [],
   "source": []
  }
 ],
 "metadata": {
  "kernelspec": {
   "display_name": "Python 3",
   "language": "python",
   "name": "python3"
  },
  "language_info": {
   "codemirror_mode": {
    "name": "ipython",
    "version": 3
   },
   "file_extension": ".py",
   "mimetype": "text/x-python",
   "name": "python",
   "nbconvert_exporter": "python",
   "pygments_lexer": "ipython3",
   "version": "3.6.5"
  }
 },
 "nbformat": 4,
 "nbformat_minor": 2
}
