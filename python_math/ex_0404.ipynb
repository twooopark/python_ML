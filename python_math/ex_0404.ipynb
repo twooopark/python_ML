{
 "cells": [
  {
   "cell_type": "markdown",
   "metadata": {},
   "source": [
    "### 분위수"
   ]
  },
  {
   "cell_type": "code",
   "execution_count": 1,
   "metadata": {},
   "outputs": [],
   "source": [
    "import scipy.stats as st\n",
    "import numpy as np"
   ]
  },
  {
   "cell_type": "markdown",
   "metadata": {},
   "source": [
    "#### 표준정규분포"
   ]
  },
  {
   "cell_type": "markdown",
   "metadata": {},
   "source": [
    "임계값을 계산해 보자."
   ]
  },
  {
   "cell_type": "code",
   "execution_count": 2,
   "metadata": {},
   "outputs": [
    {
     "data": {
      "text/plain": [
       "1.6448536269514722"
      ]
     },
     "execution_count": 2,
     "metadata": {},
     "output_type": "execute_result"
    }
   ],
   "source": [
    "mu = 0\n",
    "sigma = 1\n",
    "# 95% 해당하는 분위수 : 1.645\n",
    "q = 0.95\n",
    "st.norm.ppf(q, loc = mu , scale = sigma)"
   ]
  },
  {
   "cell_type": "code",
   "execution_count": 4,
   "metadata": {},
   "outputs": [
    {
     "data": {
      "text/plain": [
       "1.959963984540054"
      ]
     },
     "execution_count": 4,
     "metadata": {},
     "output_type": "execute_result"
    }
   ],
   "source": [
    "# 97.5% 해당하는 분위수 : 1.96\n",
    "q = 0.975\n",
    "st.norm.ppf(q, loc = mu , scale = sigma)"
   ]
  },
  {
   "cell_type": "markdown",
   "metadata": {},
   "source": [
    "#### Student t 분포"
   ]
  },
  {
   "cell_type": "markdown",
   "metadata": {},
   "source": [
    "임계값을 계산해 보자."
   ]
  },
  {
   "cell_type": "code",
   "execution_count": 7,
   "metadata": {},
   "outputs": [
    {
     "name": "stdout",
     "output_type": "stream",
     "text": [
      "df =      10,  분위수 =   1.812461\n",
      "df =      50,  분위수 =   1.675905\n",
      "df =     100,  분위수 =   1.660234\n",
      "df =    2000,  분위수 =   1.645616\n",
      "df =  100000,  분위수 =   1.644869\n"
     ]
    }
   ],
   "source": [
    "q=0.95\n",
    "# df : (자유도) sample size >> 작으면 student t를 써주고, 크면 표현하기 편한 정규분포를 쓴다.\n",
    "for df in [10,50,100,2000,100000]:\n",
    "    val = st.t.ppf(q,df)\n",
    "    print( 'df = %7d,  분위수 = %10f' %(df,val))"
   ]
  },
  {
   "cell_type": "code",
   "execution_count": 8,
   "metadata": {},
   "outputs": [
    {
     "name": "stdout",
     "output_type": "stream",
     "text": [
      "df =      10,  분위수 =   2.228139\n",
      "df =      50,  분위수 =   2.008559\n",
      "df =     100,  분위수 =   1.983972\n",
      "df =    2000,  분위수 =   1.961151\n",
      "df =  100000,  분위수 =   1.959988\n"
     ]
    }
   ],
   "source": [
    "q=0.975\n",
    "for df in [10,50,100,2000,100000]:\n",
    "    val = st.t.ppf(q,df)\n",
    "    print( 'df = %7d,  분위수 = %10f' %(df,val))"
   ]
  },
  {
   "cell_type": "markdown",
   "metadata": {},
   "source": [
    "#### 카이제곱 분포"
   ]
  },
  {
   "cell_type": "markdown",
   "metadata": {},
   "source": [
    "자유도(sample size) 5의 카이-제곱 분포(chi-squared distribution, χ2 분포)를 따르는 확률변수 X가 있다. P(X < 8)를 계산하라. "
   ]
  },
  {
   "cell_type": "code",
   "execution_count": null,
   "metadata": {},
   "outputs": [],
   "source": [
    "df = 5\n",
    "st.chi2.cdf(8, df)"
   ]
  },
  {
   "cell_type": "markdown",
   "metadata": {},
   "source": [
    "자유도 5의 카이제곱분포를 따르는 확률변수 X가 있다. 분포의 확률이 0.8438이라면 X의 값은?"
   ]
  },
  {
   "cell_type": "code",
   "execution_count": null,
   "metadata": {},
   "outputs": [],
   "source": [
    "df = 5\n",
    "st.chi2.ppf(0.8438, df)"
   ]
  },
  {
   "cell_type": "code",
   "execution_count": null,
   "metadata": {},
   "outputs": [],
   "source": []
  }
 ],
 "metadata": {
  "kernelspec": {
   "display_name": "Python 3",
   "language": "python",
   "name": "python3"
  },
  "language_info": {
   "codemirror_mode": {
    "name": "ipython",
    "version": 3
   },
   "file_extension": ".py",
   "mimetype": "text/x-python",
   "name": "python",
   "nbconvert_exporter": "python",
   "pygments_lexer": "ipython3",
   "version": "3.6.5"
  }
 },
 "nbformat": 4,
 "nbformat_minor": 2
}
