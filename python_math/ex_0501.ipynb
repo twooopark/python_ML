{
 "cells": [
  {
   "cell_type": "markdown",
   "metadata": {},
   "source": [
    "###  모평균의 비교"
   ]
  },
  {
   "cell_type": "markdown",
   "metadata": {},
   "source": [
    "#### 모집단 1개"
   ]
  },
  {
   "cell_type": "code",
   "execution_count": 1,
   "metadata": {},
   "outputs": [],
   "source": [
    "import numpy as np\n",
    "import scipy.stats as st"
   ]
  },
  {
   "cell_type": "code",
   "execution_count": 2,
   "metadata": {},
   "outputs": [],
   "source": [
    "np.random.seed(1234)\n",
    "x = np.random.randn(10)*2+3"
   ]
  },
  {
   "cell_type": "markdown",
   "metadata": {},
   "source": [
    "양측검정"
   ]
  },
  {
   "cell_type": "code",
   "execution_count": 3,
   "metadata": {},
   "outputs": [
    {
     "data": {
      "text/plain": [
       "Ttest_1sampResult(statistic=3.8682023385794677, pvalue=0.0037991794351627216)"
      ]
     },
     "execution_count": 3,
     "metadata": {},
     "output_type": "execute_result"
    }
   ],
   "source": [
    "mu_0 = 0\n",
    "st.ttest_1samp(x,mu_0)"
   ]
  },
  {
   "cell_type": "code",
   "execution_count": 4,
   "metadata": {},
   "outputs": [
    {
     "data": {
      "text/plain": [
       "0.003799179435162836"
      ]
     },
     "execution_count": 4,
     "metadata": {},
     "output_type": "execute_result"
    }
   ],
   "source": [
    "mu_0 = 0\n",
    "n = len(x)\n",
    "x_mean = x.mean()\n",
    "# x.std > s (표본의 표준편차) \n",
    "SEM = x.std(ddof=1)/np.sqrt(n)\n",
    "(1-st.t.cdf((x_mean-mu_0)/SEM,df=n-1))*2"
   ]
  },
  {
   "cell_type": "code",
   "execution_count": 5,
   "metadata": {},
   "outputs": [
    {
     "data": {
      "text/plain": [
       "0.03722962101247118"
      ]
     },
     "execution_count": 5,
     "metadata": {},
     "output_type": "execute_result"
    }
   ],
   "source": [
    "mu_0 = 1\n",
    "n = len(x)\n",
    "x_mean = x.mean()\n",
    "SEM = x.std(ddof=1)/np.sqrt(n)\n",
    "(1-st.t.cdf((x_mean-mu_0)/SEM,df=n-1))*2"
   ]
  },
  {
   "cell_type": "code",
   "execution_count": 6,
   "metadata": {},
   "outputs": [
    {
     "data": {
      "text/plain": [
       "0.3360674694425527"
      ]
     },
     "execution_count": 6,
     "metadata": {},
     "output_type": "execute_result"
    }
   ],
   "source": [
    "mu_0 = 2\n",
    "n = len(x)\n",
    "x_mean = x.mean()\n",
    "SEM = x.std(ddof=1)/np.sqrt(n)\n",
    "(1-st.t.cdf((x_mean-mu_0)/SEM,df=n-1))*2"
   ]
  },
  {
   "cell_type": "markdown",
   "metadata": {},
   "source": [
    "우측검정"
   ]
  },
  {
   "cell_type": "code",
   "execution_count": 7,
   "metadata": {},
   "outputs": [
    {
     "data": {
      "text/plain": [
       "0.001899589717581418"
      ]
     },
     "execution_count": 7,
     "metadata": {},
     "output_type": "execute_result"
    }
   ],
   "source": [
    "mu_0 = 0\n",
    "n = len(x)\n",
    "x_mean = x.mean()\n",
    "SEM = x.std(ddof=1)/np.sqrt(n)\n",
    "(1-st.t.cdf((x_mean-mu_0)/SEM,df=n-1))"
   ]
  },
  {
   "cell_type": "code",
   "execution_count": 8,
   "metadata": {},
   "outputs": [
    {
     "data": {
      "text/plain": [
       "0.01861481050623559"
      ]
     },
     "execution_count": 8,
     "metadata": {},
     "output_type": "execute_result"
    }
   ],
   "source": [
    "mu_0 = 1\n",
    "n = len(x)\n",
    "x_mean = x.mean()\n",
    "SEM = x.std(ddof=1)/np.sqrt(n)\n",
    "(1-st.t.cdf((x_mean-mu_0)/SEM,df=n-1))"
   ]
  },
  {
   "cell_type": "code",
   "execution_count": 9,
   "metadata": {},
   "outputs": [
    {
     "data": {
      "text/plain": [
       "0.16803373472127636"
      ]
     },
     "execution_count": 9,
     "metadata": {},
     "output_type": "execute_result"
    }
   ],
   "source": [
    "mu_0 = 2\n",
    "n = len(x)\n",
    "x_mean = x.mean()\n",
    "SEM = x.std(ddof=1)/np.sqrt(n)\n",
    "(1-st.t.cdf((x_mean-mu_0)/SEM,df=n-1))"
   ]
  },
  {
   "cell_type": "markdown",
   "metadata": {},
   "source": [
    "좌측검정"
   ]
  },
  {
   "cell_type": "code",
   "execution_count": 10,
   "metadata": {},
   "outputs": [
    {
     "data": {
      "text/plain": [
       "0.9981004102824186"
      ]
     },
     "execution_count": 10,
     "metadata": {},
     "output_type": "execute_result"
    }
   ],
   "source": [
    "mu_0 = 0\n",
    "n = len(x)\n",
    "x_mean = x.mean()\n",
    "SEM = x.std(ddof=1)/np.sqrt(n)\n",
    "st.t.cdf((x_mean-mu_0)/SEM,df=n-1)"
   ]
  },
  {
   "cell_type": "code",
   "execution_count": 11,
   "metadata": {},
   "outputs": [
    {
     "data": {
      "text/plain": [
       "0.9813851894937644"
      ]
     },
     "execution_count": 11,
     "metadata": {},
     "output_type": "execute_result"
    }
   ],
   "source": [
    "mu_0 = 1\n",
    "n = len(x)\n",
    "x_mean = x.mean()\n",
    "SEM = x.std(ddof=1)/np.sqrt(n)\n",
    "st.t.cdf((x_mean-mu_0)/SEM,df=n-1)"
   ]
  },
  {
   "cell_type": "code",
   "execution_count": 12,
   "metadata": {},
   "outputs": [
    {
     "data": {
      "text/plain": [
       "0.8319662652787236"
      ]
     },
     "execution_count": 12,
     "metadata": {},
     "output_type": "execute_result"
    }
   ],
   "source": [
    "mu_0 = 2\n",
    "n = len(x)\n",
    "x_mean = x.mean()\n",
    "SEM = x.std(ddof=1)/np.sqrt(n)\n",
    "st.t.cdf((x_mean-mu_0)/SEM,df=n-1)"
   ]
  },
  {
   "cell_type": "markdown",
   "metadata": {},
   "source": [
    "#### 모집단 2개"
   ]
  },
  {
   "cell_type": "code",
   "execution_count": 13,
   "metadata": {},
   "outputs": [],
   "source": [
    "x1 = np.random.randn(10)*2+3\n",
    "x2 = np.random.randn(20)*3+5\n",
    "n1= len(x1)\n",
    "n2 = len(x2)\n",
    "x1_mean = x1.mean()\n",
    "s1 = x1.std(ddof=1)\n",
    "x2_mean = x2.mean()\n",
    "s2 = x2.std(ddof=1)"
   ]
  },
  {
   "cell_type": "markdown",
   "metadata": {},
   "source": [
    "양측검정 (독립)"
   ]
  },
  {
   "cell_type": "code",
   "execution_count": 14,
   "metadata": {},
   "outputs": [
    {
     "data": {
      "text/plain": [
       "Ttest_indResult(statistic=-2.870701133767877, pvalue=0.009090146778647546)"
      ]
     },
     "execution_count": 14,
     "metadata": {},
     "output_type": "execute_result"
    }
   ],
   "source": [
    "st.ttest_ind(x1,x2,equal_var=False)"
   ]
  },
  {
   "cell_type": "code",
   "execution_count": 15,
   "metadata": {},
   "outputs": [
    {
     "data": {
      "text/plain": [
       "Ttest_indResult(statistic=-2.870701133767877, pvalue=0.009090146778647546)"
      ]
     },
     "execution_count": 15,
     "metadata": {},
     "output_type": "execute_result"
    }
   ],
   "source": [
    "st.ttest_ind_from_stats(x1_mean,s1,n1,x2_mean,s2,n2,equal_var=False)"
   ]
  },
  {
   "cell_type": "markdown",
   "metadata": {},
   "source": [
    "양측검정 (대응)"
   ]
  },
  {
   "cell_type": "code",
   "execution_count": 16,
   "metadata": {},
   "outputs": [
    {
     "data": {
      "text/plain": [
       "Ttest_relResult(statistic=-9.990047999342698, pvalue=3.608014087692343e-06)"
      ]
     },
     "execution_count": 16,
     "metadata": {},
     "output_type": "execute_result"
    }
   ],
   "source": [
    "x1 = np.random.randn(10)*5 + 3\n",
    "x2 = x1 + np.random.randn(10)*1 + 3\n",
    "st.ttest_rel(x1,x2)"
   ]
  },
  {
   "cell_type": "code",
   "execution_count": null,
   "metadata": {},
   "outputs": [],
   "source": []
  }
 ],
 "metadata": {
  "kernelspec": {
   "display_name": "Python 3",
   "language": "python",
   "name": "python3"
  },
  "language_info": {
   "codemirror_mode": {
    "name": "ipython",
    "version": 3
   },
   "file_extension": ".py",
   "mimetype": "text/x-python",
   "name": "python",
   "nbconvert_exporter": "python",
   "pygments_lexer": "ipython3",
   "version": "3.6.5"
  }
 },
 "nbformat": 4,
 "nbformat_minor": 2
}
