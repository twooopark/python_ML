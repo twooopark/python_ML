{
 "cells": [
  {
   "cell_type": "markdown",
   "metadata": {},
   "source": [
    "## Mini-Project #0301 : 커피숍의 매장 규모"
   ]
  },
  {
   "cell_type": "markdown",
   "metadata": {},
   "source": [
    "#### 필요한 패키지들을 불러옵니다:"
   ]
  },
  {
   "cell_type": "code",
   "execution_count": 1,
   "metadata": {},
   "outputs": [],
   "source": [
    "import pandas as pd\n",
    "import numpy as np\n",
    "import os"
   ]
  },
  {
   "cell_type": "markdown",
   "metadata": {},
   "source": [
    "#### 데이터 프레임을 읽어 옵니다:"
   ]
  },
  {
   "cell_type": "code",
   "execution_count": 2,
   "metadata": {},
   "outputs": [],
   "source": [
    "os.chdir(r\"D:\\python_ML\\python_ml_basic\\data\")"
   ]
  },
  {
   "cell_type": "code",
   "execution_count": 3,
   "metadata": {},
   "outputs": [],
   "source": [
    "# df = pd.read_csv('data_studentlist_en.csv', header='infer',encoding='ISO-8859-1')\n",
    "df0 = pd.read_csv('data_coffee.csv', header='infer',encoding = 'latin1')"
   ]
  },
  {
   "cell_type": "code",
   "execution_count": 4,
   "metadata": {},
   "outputs": [
    {
     "data": {
      "text/plain": [
       "(46832, 23)"
      ]
     },
     "execution_count": 4,
     "metadata": {},
     "output_type": "execute_result"
    }
   ],
   "source": [
    "df0.shape"
   ]
  },
  {
   "cell_type": "markdown",
   "metadata": {},
   "source": [
    "#### 데이터 프레임의 구조를 한눈에 살펴 봅니다:"
   ]
  },
  {
   "cell_type": "code",
   "execution_count": 5,
   "metadata": {},
   "outputs": [
    {
     "name": "stdout",
     "output_type": "stream",
     "text": [
      "<class 'pandas.core.frame.DataFrame'>\nRangeIndex: 46832 entries, 0 to 46831\nData columns (total 23 columns):\nnumber                  46832 non-null int64\ncompanyName             46832 non-null object\nadress                  46600 non-null object\nadressBystreet          39548 non-null object\ndateOflicensing         46832 non-null int64\nstateOfbusiness         46832 non-null object\ndateOfclosure           13245 non-null float64\nstartdateOfcessation    0 non-null float64\nduedateOfcessation      0 non-null float64\ndateOfreOpen            0 non-null float64\nareaOfsite              0 non-null float64\nzip                     0 non-null float64\nwaterwork               29610 non-null object\nnumOfmenWorker          5918 non-null float64\nyearOfStart             46813 non-null float64\nmultipleUse             46813 non-null object\ngrade                   3775 non-null object\nsizeOfsite              46813 non-null float64\nnumOfwomenWorker        7042 non-null float64\nvicintyOfsite           12894 non-null object\nsanitaryName            46813 non-null object\nbusinessCondition       46813 non-null object\ntotalOfworker           5537 non-null float64\ndtypes: float64(11), int64(2), object(10)\nmemory usage: 8.2+ MB\n"
     ]
    }
   ],
   "source": [
    "df0.info()"
   ]
  },
  {
   "cell_type": "markdown",
   "metadata": {},
   "source": [
    "#### 데이터 프레임의 컬럼 이름을 header에 저장합니다:"
   ]
  },
  {
   "cell_type": "code",
   "execution_count": 6,
   "metadata": {},
   "outputs": [
    {
     "data": {
      "text/plain": [
       "Index(['number', 'companyName', 'adress', 'adressBystreet', 'dateOflicensing',\n       'stateOfbusiness', 'dateOfclosure', 'startdateOfcessation',\n       'duedateOfcessation', 'dateOfreOpen', 'areaOfsite', 'zip', 'waterwork',\n       'numOfmenWorker', 'yearOfStart', 'multipleUse', 'grade', 'sizeOfsite',\n       'numOfwomenWorker', 'vicintyOfsite', 'sanitaryName',\n       'businessCondition', 'totalOfworker'],\n      dtype='object')"
      ]
     },
     "execution_count": 6,
     "metadata": {},
     "output_type": "execute_result"
    }
   ],
   "source": [
    "header = df0.columns\n",
    "header"
   ]
  },
  {
   "cell_type": "markdown",
   "metadata": {},
   "source": [
    "#### 결측치에 관해서 알아봅니다:"
   ]
  },
  {
   "cell_type": "code",
   "execution_count": 7,
   "metadata": {},
   "outputs": [
    {
     "data": {
      "text/plain": [
       "number                      0\ncompanyName                 0\nadress                    232\nadressBystreet           7284\ndateOflicensing             0\nstateOfbusiness             0\ndateOfclosure           33587\nstartdateOfcessation    46832\nduedateOfcessation      46832\ndateOfreOpen            46832\nareaOfsite              46832\nzip                     46832\nwaterwork               17222\nnumOfmenWorker          40914\nyearOfStart                19\nmultipleUse                19\ngrade                   43057\nsizeOfsite                 19\nnumOfwomenWorker        39790\nvicintyOfsite           33938\nsanitaryName               19\nbusinessCondition          19\ntotalOfworker           41295\ndtype: int64"
      ]
     },
     "execution_count": 7,
     "metadata": {},
     "output_type": "execute_result"
    }
   ],
   "source": [
    "(df0.isnull()).sum(axis=0)"
   ]
  },
  {
   "cell_type": "code",
   "execution_count": 8,
   "metadata": {},
   "outputs": [
    {
     "data": {
      "text/plain": [
       "number                  0.000000\ncompanyName             0.000000\nadress                  0.004954\nadressBystreet          0.155535\ndateOflicensing         0.000000\nstateOfbusiness         0.000000\ndateOfclosure           0.717181\nstartdateOfcessation    1.000000\nduedateOfcessation      1.000000\ndateOfreOpen            1.000000\nareaOfsite              1.000000\nzip                     1.000000\nwaterwork               0.367740\nnumOfmenWorker          0.873633\nyearOfStart             0.000406\nmultipleUse             0.000406\ngrade                   0.919393\nsizeOfsite              0.000406\nnumOfwomenWorker        0.849633\nvicintyOfsite           0.724675\nsanitaryName            0.000406\nbusinessCondition       0.000406\ntotalOfworker           0.881769\ndtype: float64"
      ]
     },
     "execution_count": 8,
     "metadata": {},
     "output_type": "execute_result"
    }
   ],
   "source": [
    "(df0.isnull()).mean(axis=0)"
   ]
  },
  {
   "cell_type": "markdown",
   "metadata": {},
   "source": [
    "#### 결측치가 있는 sizeOfSite의 행은 떨구어 냅니다:"
   ]
  },
  {
   "cell_type": "code",
   "execution_count": 9,
   "metadata": {},
   "outputs": [],
   "source": [
    "x0 = np.array(df0.loc[:,'sizeOfsite'].dropna(axis=0))"
   ]
  },
  {
   "cell_type": "code",
   "execution_count": 10,
   "metadata": {},
   "outputs": [
    {
     "data": {
      "text/plain": [
       "(46813,)"
      ]
     },
     "execution_count": 10,
     "metadata": {},
     "output_type": "execute_result"
    }
   ],
   "source": [
    "x0.shape"
   ]
  },
  {
   "cell_type": "markdown",
   "metadata": {},
   "source": [
    "#### Histogram을 그립니다:"
   ]
  },
  {
   "cell_type": "code",
   "execution_count": 11,
   "metadata": {},
   "outputs": [
    {
     "data": {
      "image/png": "[encoded data removed]",
      "text/plain": [
       "<Figure size 432x288 with 1 Axes>"
      ]
     },
     "metadata": {},
     "output_type": "display_data"
    }
   ],
   "source": [
    "%matplotlib inline\n",
    "import matplotlib.pyplot as plt\n",
    "plt.hist(x0,bins=50,color='green', density=True)\n",
    "plt.show()"
   ]
  },
  {
   "cell_type": "markdown",
   "metadata": {},
   "source": [
    "#### 매장 규모가 500 이상인 outlier는 필터링 하고 다시 histogram을 그립니다:"
   ]
  },
  {
   "cell_type": "code",
   "execution_count": 12,
   "metadata": {},
   "outputs": [],
   "source": [
    "x=x0[x0 < 500]"
   ]
  },
  {
   "cell_type": "code",
   "execution_count": 13,
   "metadata": {},
   "outputs": [
    {
     "data": {
      "image/png": "[encoded data removed]",
      "text/plain": [
       "<Figure size 432x288 with 1 Axes>"
      ]
     },
     "metadata": {},
     "output_type": "display_data"
    }
   ],
   "source": [
    "plt.hist(x,bins=50,color='blue', density=True)\n",
    "plt.show()"
   ]
  },
  {
   "cell_type": "code",
   "execution_count": null,
   "metadata": {},
   "outputs": [],
   "source": []
  }
 ],
 "metadata": {
  "kernelspec": {
   "display_name": "Python 3",
   "language": "python",
   "name": "python3"
  },
  "language_info": {
   "codemirror_mode": {
    "name": "ipython",
    "version": 3
   },
   "file_extension": ".py",
   "mimetype": "text/x-python",
   "name": "python",
   "nbconvert_exporter": "python",
   "pygments_lexer": "ipython3",
   "version": "3.6.5"
  }
 },
 "nbformat": 4,
 "nbformat_minor": 2
}
