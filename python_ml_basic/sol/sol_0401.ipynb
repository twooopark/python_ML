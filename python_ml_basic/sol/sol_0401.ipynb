{
 "cells": [
  {
   "cell_type": "markdown",
   "metadata": {},
   "source": [
    "## Mini-Project #0401"
   ]
  },
  {
   "cell_type": "markdown",
   "metadata": {},
   "source": [
    "#### 필요한 패키지들을 불러온다:"
   ]
  },
  {
   "cell_type": "code",
   "execution_count": 1,
   "metadata": {},
   "outputs": [],
   "source": [
    "import numpy as np\n",
    "import pandas as pd\n",
    "import os\n",
    "from sklearn.linear_model import LinearRegression"
   ]
  },
  {
   "cell_type": "markdown",
   "metadata": {},
   "source": [
    "#### 데이터를 읽어온다:"
   ]
  },
  {
   "cell_type": "code",
   "execution_count": 2,
   "metadata": {},
   "outputs": [],
   "source": [
    "os.chdir(r\"C:\\Users\\bit\\Desktop\\20180717_머신러닝 알고리즘과 응용\\data\")"
   ]
  },
  {
   "cell_type": "code",
   "execution_count": 3,
   "metadata": {},
   "outputs": [],
   "source": [
    "#df = pd.read_csv('data_kbo2015.csv', header='infer',encoding='ISO-8859-1')\n",
    "df = pd.read_csv('data_kbo2015.csv', header='infer',encoding='latin1')"
   ]
  },
  {
   "cell_type": "code",
   "execution_count": 4,
   "metadata": {},
   "outputs": [
    {
     "data": {
      "text/plain": [
       "(10, 26)"
      ]
     },
     "execution_count": 4,
     "metadata": {},
     "output_type": "execute_result"
    }
   ],
   "source": [
    "df.shape"
   ]
  },
  {
   "cell_type": "code",
   "execution_count": 5,
   "metadata": {},
   "outputs": [
    {
     "data": {
      "text/html": [
       "<div>\n",
       "<style scoped>\n",
       "    .dataframe tbody tr th:only-of-type {\n",
       "        vertical-align: middle;\n",
       "    }\n",
       "\n",
       "    .dataframe tbody tr th {\n",
       "        vertical-align: top;\n",
       "    }\n",
       "\n",
       "    .dataframe thead th {\n",
       "        text-align: right;\n",
       "    }\n",
       "</style>\n",
       "<table border=\"1\" class=\"dataframe\">\n",
       "  <thead>\n",
       "    <tr style=\"text-align: right;\">\n",
       "      <th></th>\n",
       "      <th>ranking</th>\n",
       "      <th>team</th>\n",
       "      <th>AVG</th>\n",
       "      <th>G</th>\n",
       "      <th>PA</th>\n",
       "      <th>AB</th>\n",
       "      <th>R</th>\n",
       "      <th>H</th>\n",
       "      <th>2B</th>\n",
       "      <th>3B</th>\n",
       "      <th>...</th>\n",
       "      <th>IBB</th>\n",
       "      <th>HBP</th>\n",
       "      <th>SO</th>\n",
       "      <th>GDP</th>\n",
       "      <th>SLG</th>\n",
       "      <th>OBP</th>\n",
       "      <th>OPS</th>\n",
       "      <th>MH</th>\n",
       "      <th>RISP</th>\n",
       "      <th>PH-BA</th>\n",
       "    </tr>\n",
       "  </thead>\n",
       "  <tbody>\n",
       "    <tr>\n",
       "      <th>0</th>\n",
       "      <td>1</td>\n",
       "      <td>Samsung</td>\n",
       "      <td>0.300</td>\n",
       "      <td>102</td>\n",
       "      <td>4091</td>\n",
       "      <td>3553</td>\n",
       "      <td>634</td>\n",
       "      <td>1066</td>\n",
       "      <td>188</td>\n",
       "      <td>19</td>\n",
       "      <td>...</td>\n",
       "      <td>15</td>\n",
       "      <td>47</td>\n",
       "      <td>650</td>\n",
       "      <td>78</td>\n",
       "      <td>0.471</td>\n",
       "      <td>0.374</td>\n",
       "      <td>0.845</td>\n",
       "      <td>101</td>\n",
       "      <td>0.300</td>\n",
       "      <td>0.216</td>\n",
       "    </tr>\n",
       "    <tr>\n",
       "      <th>1</th>\n",
       "      <td>2</td>\n",
       "      <td>Nexen</td>\n",
       "      <td>0.300</td>\n",
       "      <td>102</td>\n",
       "      <td>4151</td>\n",
       "      <td>3620</td>\n",
       "      <td>658</td>\n",
       "      <td>1085</td>\n",
       "      <td>227</td>\n",
       "      <td>12</td>\n",
       "      <td>...</td>\n",
       "      <td>13</td>\n",
       "      <td>61</td>\n",
       "      <td>815</td>\n",
       "      <td>79</td>\n",
       "      <td>0.498</td>\n",
       "      <td>0.374</td>\n",
       "      <td>0.872</td>\n",
       "      <td>100</td>\n",
       "      <td>0.294</td>\n",
       "      <td>0.268</td>\n",
       "    </tr>\n",
       "    <tr>\n",
       "      <th>2</th>\n",
       "      <td>3</td>\n",
       "      <td>Doosan</td>\n",
       "      <td>0.291</td>\n",
       "      <td>99</td>\n",
       "      <td>3950</td>\n",
       "      <td>3410</td>\n",
       "      <td>570</td>\n",
       "      <td>991</td>\n",
       "      <td>176</td>\n",
       "      <td>16</td>\n",
       "      <td>...</td>\n",
       "      <td>17</td>\n",
       "      <td>66</td>\n",
       "      <td>544</td>\n",
       "      <td>95</td>\n",
       "      <td>0.438</td>\n",
       "      <td>0.368</td>\n",
       "      <td>0.806</td>\n",
       "      <td>98</td>\n",
       "      <td>0.284</td>\n",
       "      <td>0.262</td>\n",
       "    </tr>\n",
       "    <tr>\n",
       "      <th>3</th>\n",
       "      <td>4</td>\n",
       "      <td>NC</td>\n",
       "      <td>0.288</td>\n",
       "      <td>101</td>\n",
       "      <td>3994</td>\n",
       "      <td>3485</td>\n",
       "      <td>591</td>\n",
       "      <td>1002</td>\n",
       "      <td>205</td>\n",
       "      <td>20</td>\n",
       "      <td>...</td>\n",
       "      <td>17</td>\n",
       "      <td>74</td>\n",
       "      <td>717</td>\n",
       "      <td>65</td>\n",
       "      <td>0.453</td>\n",
       "      <td>0.362</td>\n",
       "      <td>0.815</td>\n",
       "      <td>101</td>\n",
       "      <td>0.296</td>\n",
       "      <td>0.274</td>\n",
       "    </tr>\n",
       "    <tr>\n",
       "      <th>4</th>\n",
       "      <td>5</td>\n",
       "      <td>Lotte</td>\n",
       "      <td>0.277</td>\n",
       "      <td>104</td>\n",
       "      <td>4082</td>\n",
       "      <td>3557</td>\n",
       "      <td>545</td>\n",
       "      <td>985</td>\n",
       "      <td>176</td>\n",
       "      <td>14</td>\n",
       "      <td>...</td>\n",
       "      <td>16</td>\n",
       "      <td>57</td>\n",
       "      <td>866</td>\n",
       "      <td>105</td>\n",
       "      <td>0.444</td>\n",
       "      <td>0.356</td>\n",
       "      <td>0.800</td>\n",
       "      <td>104</td>\n",
       "      <td>0.272</td>\n",
       "      <td>0.190</td>\n",
       "    </tr>\n",
       "    <tr>\n",
       "      <th>5</th>\n",
       "      <td>6</td>\n",
       "      <td>SK</td>\n",
       "      <td>0.276</td>\n",
       "      <td>99</td>\n",
       "      <td>3888</td>\n",
       "      <td>3373</td>\n",
       "      <td>476</td>\n",
       "      <td>931</td>\n",
       "      <td>146</td>\n",
       "      <td>9</td>\n",
       "      <td>...</td>\n",
       "      <td>12</td>\n",
       "      <td>63</td>\n",
       "      <td>720</td>\n",
       "      <td>73</td>\n",
       "      <td>0.406</td>\n",
       "      <td>0.355</td>\n",
       "      <td>0.761</td>\n",
       "      <td>99</td>\n",
       "      <td>0.277</td>\n",
       "      <td>0.236</td>\n",
       "    </tr>\n",
       "    <tr>\n",
       "      <th>6</th>\n",
       "      <td>7</td>\n",
       "      <td>Hanhwa</td>\n",
       "      <td>0.270</td>\n",
       "      <td>102</td>\n",
       "      <td>4037</td>\n",
       "      <td>3404</td>\n",
       "      <td>504</td>\n",
       "      <td>919</td>\n",
       "      <td>162</td>\n",
       "      <td>13</td>\n",
       "      <td>...</td>\n",
       "      <td>23</td>\n",
       "      <td>86</td>\n",
       "      <td>780</td>\n",
       "      <td>78</td>\n",
       "      <td>0.397</td>\n",
       "      <td>0.360</td>\n",
       "      <td>0.757</td>\n",
       "      <td>102</td>\n",
       "      <td>0.264</td>\n",
       "      <td>0.196</td>\n",
       "    </tr>\n",
       "    <tr>\n",
       "      <th>7</th>\n",
       "      <td>8</td>\n",
       "      <td>kt</td>\n",
       "      <td>0.270</td>\n",
       "      <td>102</td>\n",
       "      <td>3988</td>\n",
       "      <td>3498</td>\n",
       "      <td>466</td>\n",
       "      <td>944</td>\n",
       "      <td>161</td>\n",
       "      <td>13</td>\n",
       "      <td>...</td>\n",
       "      <td>13</td>\n",
       "      <td>47</td>\n",
       "      <td>799</td>\n",
       "      <td>75</td>\n",
       "      <td>0.398</td>\n",
       "      <td>0.343</td>\n",
       "      <td>0.741</td>\n",
       "      <td>101</td>\n",
       "      <td>0.259</td>\n",
       "      <td>0.243</td>\n",
       "    </tr>\n",
       "    <tr>\n",
       "      <th>8</th>\n",
       "      <td>9</td>\n",
       "      <td>LG</td>\n",
       "      <td>0.259</td>\n",
       "      <td>103</td>\n",
       "      <td>3984</td>\n",
       "      <td>3491</td>\n",
       "      <td>458</td>\n",
       "      <td>905</td>\n",
       "      <td>171</td>\n",
       "      <td>16</td>\n",
       "      <td>...</td>\n",
       "      <td>17</td>\n",
       "      <td>57</td>\n",
       "      <td>803</td>\n",
       "      <td>68</td>\n",
       "      <td>0.389</td>\n",
       "      <td>0.334</td>\n",
       "      <td>0.723</td>\n",
       "      <td>103</td>\n",
       "      <td>0.238</td>\n",
       "      <td>0.231</td>\n",
       "    </tr>\n",
       "    <tr>\n",
       "      <th>9</th>\n",
       "      <td>10</td>\n",
       "      <td>KIA</td>\n",
       "      <td>0.256</td>\n",
       "      <td>100</td>\n",
       "      <td>3835</td>\n",
       "      <td>3362</td>\n",
       "      <td>469</td>\n",
       "      <td>861</td>\n",
       "      <td>161</td>\n",
       "      <td>14</td>\n",
       "      <td>...</td>\n",
       "      <td>11</td>\n",
       "      <td>69</td>\n",
       "      <td>778</td>\n",
       "      <td>68</td>\n",
       "      <td>0.397</td>\n",
       "      <td>0.332</td>\n",
       "      <td>0.729</td>\n",
       "      <td>100</td>\n",
       "      <td>0.260</td>\n",
       "      <td>0.214</td>\n",
       "    </tr>\n",
       "  </tbody>\n",
       "</table>\n",
       "<p>10 rows × 26 columns</p>\n",
       "</div>"
      ],
      "text/plain": [
       "   ranking     team    AVG    G    PA    AB    R     H   2B  3B  ...    IBB  \\\n",
       "0        1  Samsung  0.300  102  4091  3553  634  1066  188  19  ...     15   \n",
       "1        2    Nexen  0.300  102  4151  3620  658  1085  227  12  ...     13   \n",
       "2        3   Doosan  0.291   99  3950  3410  570   991  176  16  ...     17   \n",
       "3        4       NC  0.288  101  3994  3485  591  1002  205  20  ...     17   \n",
       "4        5    Lotte  0.277  104  4082  3557  545   985  176  14  ...     16   \n",
       "5        6       SK  0.276   99  3888  3373  476   931  146   9  ...     12   \n",
       "6        7   Hanhwa  0.270  102  4037  3404  504   919  162  13  ...     23   \n",
       "7        8       kt  0.270  102  3988  3498  466   944  161  13  ...     13   \n",
       "8        9       LG  0.259  103  3984  3491  458   905  171  16  ...     17   \n",
       "9       10      KIA  0.256  100  3835  3362  469   861  161  14  ...     11   \n",
       "\n",
       "   HBP   SO  GDP    SLG    OBP    OPS   MH   RISP  PH-BA  \n",
       "0   47  650   78  0.471  0.374  0.845  101  0.300  0.216  \n",
       "1   61  815   79  0.498  0.374  0.872  100  0.294  0.268  \n",
       "2   66  544   95  0.438  0.368  0.806   98  0.284  0.262  \n",
       "3   74  717   65  0.453  0.362  0.815  101  0.296  0.274  \n",
       "4   57  866  105  0.444  0.356  0.800  104  0.272  0.190  \n",
       "5   63  720   73  0.406  0.355  0.761   99  0.277  0.236  \n",
       "6   86  780   78  0.397  0.360  0.757  102  0.264  0.196  \n",
       "7   47  799   75  0.398  0.343  0.741  101  0.259  0.243  \n",
       "8   57  803   68  0.389  0.334  0.723  103  0.238  0.231  \n",
       "9   69  778   68  0.397  0.332  0.729  100  0.260  0.214  \n",
       "\n",
       "[10 rows x 26 columns]"
      ]
     },
     "execution_count": 5,
     "metadata": {},
     "output_type": "execute_result"
    }
   ],
   "source": [
    "df"
   ]
  },
  {
   "cell_type": "code",
   "execution_count": 6,
   "metadata": {},
   "outputs": [
    {
     "data": {
      "text/plain": [
       "Index(['ranking', 'team', 'AVG', 'G', 'PA', 'AB', 'R', 'H', '2B', '3B', 'HR',\n",
       "       'TB', 'RBI', 'SAC', 'SF', 'BB', 'IBB', 'HBP', 'SO', 'GDP', 'SLG', 'OBP',\n",
       "       'OPS', 'MH', 'RISP', 'PH-BA'],\n",
       "      dtype='object')"
      ]
     },
     "execution_count": 6,
     "metadata": {},
     "output_type": "execute_result"
    }
   ],
   "source": [
    "df.columns"
   ]
  },
  {
   "cell_type": "code",
   "execution_count": 7,
   "metadata": {},
   "outputs": [],
   "source": [
    "X=np.array(df.H)\n",
    "X=X.reshape(X.size,1)\n",
    "Y=np.array(df.HR)\n",
    "Y=Y.reshape(Y.size,1)"
   ]
  },
  {
   "cell_type": "markdown",
   "metadata": {},
   "source": [
    "#### 선형회귀 적용:"
   ]
  },
  {
   "cell_type": "code",
   "execution_count": 8,
   "metadata": {},
   "outputs": [],
   "source": [
    "lm = LinearRegression()"
   ]
  },
  {
   "cell_type": "code",
   "execution_count": 9,
   "metadata": {},
   "outputs": [
    {
     "data": {
      "text/plain": [
       "LinearRegression(copy_X=True, fit_intercept=True, n_jobs=1, normalize=False)"
      ]
     },
     "execution_count": 9,
     "metadata": {},
     "output_type": "execute_result"
    }
   ],
   "source": [
    "lm.fit(X,Y)"
   ]
  },
  {
   "cell_type": "code",
   "execution_count": 10,
   "metadata": {},
   "outputs": [
    {
     "data": {
      "text/plain": [
       "array([[0.28714054]])"
      ]
     },
     "execution_count": 10,
     "metadata": {},
     "output_type": "execute_result"
    }
   ],
   "source": [
    "lm.coef_"
   ]
  },
  {
   "cell_type": "code",
   "execution_count": 11,
   "metadata": {},
   "outputs": [
    {
     "data": {
      "text/plain": [
       "array([-172.31047311])"
      ]
     },
     "execution_count": 11,
     "metadata": {},
     "output_type": "execute_result"
    }
   ],
   "source": [
    "lm.intercept_"
   ]
  },
  {
   "cell_type": "markdown",
   "metadata": {},
   "source": [
    "#### 결정계수와 상관계수를 비교해 본다:"
   ]
  },
  {
   "cell_type": "code",
   "execution_count": 12,
   "metadata": {},
   "outputs": [
    {
     "data": {
      "text/plain": [
       "0.7029340148877057"
      ]
     },
     "execution_count": 12,
     "metadata": {},
     "output_type": "execute_result"
    }
   ],
   "source": [
    "R2 = lm.score(X,Y)\n",
    "R2"
   ]
  },
  {
   "cell_type": "code",
   "execution_count": 13,
   "metadata": {},
   "outputs": [
    {
     "data": {
      "text/plain": [
       "0.8384116023098116"
      ]
     },
     "execution_count": 13,
     "metadata": {},
     "output_type": "execute_result"
    }
   ],
   "source": [
    "corr = np.sqrt(R2)\n",
    "corr"
   ]
  },
  {
   "cell_type": "code",
   "execution_count": 14,
   "metadata": {},
   "outputs": [
    {
     "data": {
      "text/plain": [
       "array([[1.       , 0.8384116],\n",
       "       [0.8384116, 1.       ]])"
      ]
     },
     "execution_count": 14,
     "metadata": {},
     "output_type": "execute_result"
    }
   ],
   "source": [
    "np.corrcoef(X.T,Y.T)"
   ]
  },
  {
   "cell_type": "code",
   "execution_count": 15,
   "metadata": {},
   "outputs": [
    {
     "data": {
      "text/plain": [
       "0.8384116023098118"
      ]
     },
     "execution_count": 15,
     "metadata": {},
     "output_type": "execute_result"
    }
   ],
   "source": [
    "df.HR.corr(df.H)"
   ]
  },
  {
   "cell_type": "code",
   "execution_count": null,
   "metadata": {},
   "outputs": [],
   "source": []
  }
 ],
 "metadata": {
  "kernelspec": {
   "display_name": "Python 3",
   "language": "python",
   "name": "python3"
  },
  "language_info": {
   "codemirror_mode": {
    "name": "ipython",
    "version": 3
   },
   "file_extension": ".py",
   "mimetype": "text/x-python",
   "name": "python",
   "nbconvert_exporter": "python",
   "pygments_lexer": "ipython3",
   "version": "3.6.5"
  }
 },
 "nbformat": 4,
 "nbformat_minor": 2
}
