{
 "cells": [
  {
   "cell_type": "markdown",
   "metadata": {},
   "source": [
    "### 다음 물음에 답하는 코드를 작성하시오. "
   ]
  },
  {
   "cell_type": "markdown",
   "metadata": {},
   "source": [
    "1). A학급의 학생 신장을 조사해 보니 다음과 같다:\n",
    "\n",
    "161.5 <br>\n",
    "155.9 <br>\n",
    "168.7 <br>\n",
    "163.1 <br>\n",
    "170.8 <br>\n",
    "167.2 <br>\n",
    "\n",
    "위 자료를 리스트로 정리해본다."
   ]
  },
  {
   "cell_type": "code",
   "execution_count": 1,
   "metadata": {},
   "outputs": [],
   "source": [
    "A = [161.5,155.9,168.7,163.1,170.8,167.2]"
   ]
  },
  {
   "cell_type": "markdown",
   "metadata": {},
   "source": [
    "리스트와 for 반복문을 사용해서 평균 신장을 구해본다."
   ]
  },
  {
   "cell_type": "code",
   "execution_count": 2,
   "metadata": {},
   "outputs": [
    {
     "name": "stdout",
     "output_type": "stream",
     "text": [
      "164.53333333333333\n"
     ]
    }
   ],
   "source": [
    "sum = 0\n",
    "for a in A:\n",
    "    sum += a\n",
    "print(sum/len(A))"
   ]
  },
  {
   "cell_type": "markdown",
   "metadata": {},
   "source": [
    "2). B학급의 학생 신장을 조사해 보니 다음과 같다:\n",
    "\n",
    "172.5 <br>\n",
    "162.9 <br>\n",
    "161.7 <br>\n",
    "160.1 <br>\n",
    "161.8 <br>\n",
    "159.2 <br>\n",
    "\n",
    "A학급과 같은 방법으로 평균 신장을 구해본다."
   ]
  },
  {
   "cell_type": "code",
   "execution_count": 3,
   "metadata": {},
   "outputs": [
    {
     "name": "stdout",
     "output_type": "stream",
     "text": [
      "163.03333333333333\n"
     ]
    }
   ],
   "source": [
    "B = [172.5,162.9, 161.7, 160.1, 161.8, 159.2] \n",
    "sum = 0\n",
    "for b in B:\n",
    "    sum += b\n",
    "print(sum/len(B))"
   ]
  },
  {
   "cell_type": "markdown",
   "metadata": {},
   "source": [
    "3). A학급과 B학급 신장 자료를 통합한 리스트 AB를 만든다. (이어 붙이기) <br>\n",
    "\n",
    "이 통합 리스트 AB를 가지고 평균을 구한다."
   ]
  },
  {
   "cell_type": "code",
   "execution_count": 4,
   "metadata": {},
   "outputs": [
    {
     "name": "stdout",
     "output_type": "stream",
     "text": [
      "163.78333333333333\n"
     ]
    }
   ],
   "source": [
    "AB = A + B\n",
    "sum = 0\n",
    "for ab in AB:\n",
    "    sum += ab\n",
    "print(sum/len(AB))"
   ]
  },
  {
   "cell_type": "markdown",
   "metadata": {},
   "source": [
    "4). 통합 리스트 AB를 정렬해 본다."
   ]
  },
  {
   "cell_type": "code",
   "execution_count": 5,
   "metadata": {},
   "outputs": [
    {
     "data": {
      "text/plain": [
       "[155.9,\n",
       " 159.2,\n",
       " 160.1,\n",
       " 161.5,\n",
       " 161.7,\n",
       " 161.8,\n",
       " 162.9,\n",
       " 163.1,\n",
       " 167.2,\n",
       " 168.7,\n",
       " 170.8,\n",
       " 172.5]"
      ]
     },
     "execution_count": 5,
     "metadata": {},
     "output_type": "execute_result"
    }
   ],
   "source": [
    "AB.sort()\n",
    "AB"
   ]
  },
  {
   "cell_type": "markdown",
   "metadata": {},
   "source": [
    "5). 통합 리스트 AB에서 가장 작은 값을 가져오시오."
   ]
  },
  {
   "cell_type": "code",
   "execution_count": 6,
   "metadata": {},
   "outputs": [
    {
     "data": {
      "text/plain": [
       "161.5"
      ]
     },
     "execution_count": 6,
     "metadata": {},
     "output_type": "execute_result"
    }
   ],
   "source": [
    "A[0]"
   ]
  },
  {
   "cell_type": "markdown",
   "metadata": {},
   "source": [
    "6). 통합 리스트 AB에서 가장 큰 값을 가져오시오."
   ]
  },
  {
   "cell_type": "code",
   "execution_count": 7,
   "metadata": {},
   "outputs": [
    {
     "data": {
      "text/plain": [
       "172.5"
      ]
     },
     "execution_count": 7,
     "metadata": {},
     "output_type": "execute_result"
    }
   ],
   "source": [
    "AB[-1]"
   ]
  },
  {
   "cell_type": "markdown",
   "metadata": {},
   "source": [
    "7). 통합 리스트 AB를 사용하여 신장이 165이하인 학생들 만의 리스트 C를 만든다."
   ]
  },
  {
   "cell_type": "code",
   "execution_count": 8,
   "metadata": {},
   "outputs": [
    {
     "data": {
      "text/plain": [
       "[155.9, 159.2, 160.1, 161.5, 161.7, 161.8, 162.9, 163.1]"
      ]
     },
     "execution_count": 8,
     "metadata": {},
     "output_type": "execute_result"
    }
   ],
   "source": [
    "C =[]\n",
    "for ab in AB:\n",
    "    if (ab <165):\n",
    "        C.append(ab)\n",
    "C"
   ]
  },
  {
   "cell_type": "markdown",
   "metadata": {},
   "source": [
    "리스트 C의 평균을 구하여라."
   ]
  },
  {
   "cell_type": "code",
   "execution_count": 9,
   "metadata": {},
   "outputs": [
    {
     "name": "stdout",
     "output_type": "stream",
     "text": [
      "160.775\n"
     ]
    }
   ],
   "source": [
    "sum = 0\n",
    "for c in C:\n",
    "    sum += c\n",
    "print(sum/len(C))"
   ]
  },
  {
   "cell_type": "markdown",
   "metadata": {},
   "source": [
    "8). 통합 리스트 AB를 사용하여 신장이 160이상 170이하인 학생들 만의 리스트 D를 만든다."
   ]
  },
  {
   "cell_type": "code",
   "execution_count": 10,
   "metadata": {},
   "outputs": [
    {
     "data": {
      "text/plain": [
       "[160.1, 161.5, 161.7, 161.8, 162.9, 163.1, 167.2, 168.7]"
      ]
     },
     "execution_count": 10,
     "metadata": {},
     "output_type": "execute_result"
    }
   ],
   "source": [
    "D =[]\n",
    "for ab in AB:\n",
    "    if (ab > 160 and ab < 170):\n",
    "        D.append(ab)\n",
    "D"
   ]
  },
  {
   "cell_type": "markdown",
   "metadata": {},
   "source": [
    "리스트 D의 평균을 구하여라."
   ]
  },
  {
   "cell_type": "code",
   "execution_count": 11,
   "metadata": {},
   "outputs": [
    {
     "name": "stdout",
     "output_type": "stream",
     "text": [
      "163.375\n"
     ]
    }
   ],
   "source": [
    "sum = 0\n",
    "for d in D:\n",
    "    sum += d\n",
    "print(sum/len(D))"
   ]
  },
  {
   "cell_type": "code",
   "execution_count": null,
   "metadata": {},
   "outputs": [],
   "source": []
  }
 ],
 "metadata": {
  "kernelspec": {
   "display_name": "Python 3",
   "language": "python",
   "name": "python3"
  },
  "language_info": {
   "codemirror_mode": {
    "name": "ipython",
    "version": 3
   },
   "file_extension": ".py",
   "mimetype": "text/x-python",
   "name": "python",
   "nbconvert_exporter": "python",
   "pygments_lexer": "ipython3",
   "version": "3.6.5"
  }
 },
 "nbformat": 4,
 "nbformat_minor": 2
}
