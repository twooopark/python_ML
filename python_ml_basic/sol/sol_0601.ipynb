{
 "cells": [
  {
   "cell_type": "markdown",
   "metadata": {},
   "source": [
    "## Final Project"
   ]
  },
  {
   "cell_type": "markdown",
   "metadata": {},
   "source": [
    "#### 필요한 패키지들을 불러온다:"
   ]
  },
  {
   "cell_type": "code",
   "execution_count": 1,
   "metadata": {},
   "outputs": [],
   "source": [
    "%matplotlib inline\n",
    "import numpy as np\n",
    "import pandas as pd\n",
    "import matplotlib.pyplot as plt\n",
    "import os\n",
    "from sklearn.model_selection import train_test_split, GridSearchCV\n",
    "from sklearn.neighbors import KNeighborsClassifier\n",
    "from sklearn import metrics, preprocessing\n",
    "from sklearn.decomposition import PCA\n",
    "from scipy.stats import itemfreq"
   ]
  },
  {
   "cell_type": "markdown",
   "metadata": {},
   "source": [
    "#### 데이터를 읽어온다:"
   ]
  },
  {
   "cell_type": "code",
   "execution_count": 2,
   "metadata": {},
   "outputs": [],
   "source": [
    "os.chdir(r\"C:\\Users\\bit\\Desktop\\20180717_머신러닝 알고리즘과 응용\\data\")"
   ]
  },
  {
   "cell_type": "code",
   "execution_count": 3,
   "metadata": {},
   "outputs": [
    {
     "name": "stderr",
     "output_type": "stream",
     "text": [
      "C:\\Users\\bit\\Anaconda3\\lib\\site-packages\\IPython\\core\\interactiveshell.py:2785: DtypeWarning: Columns (11,14,19,22,25,70,73,86,87,89,90,94,97,100) have mixed types. Specify dtype option on import or set low_memory=False.\n",
      "  interactivity=interactivity, compiler=compiler, result=result)\n"
     ]
    }
   ],
   "source": [
    "#df = pd.read_csv('data_kbo2015.csv', header='infer',encoding='ISO-8859-1')\n",
    "df = pd.read_csv('data_activity_training.csv', header='infer',encoding='latin1')\n",
    "# df_test = pd.read_csv('data_activity_testing.csv', header='infer',encoding='latin1')"
   ]
  },
  {
   "cell_type": "code",
   "execution_count": 4,
   "metadata": {},
   "outputs": [
    {
     "name": "stdout",
     "output_type": "stream",
     "text": [
      "(19622, 160)\n"
     ]
    }
   ],
   "source": [
    "print(df.shape)\n",
    "#print(df_test.shape)"
   ]
  },
  {
   "cell_type": "code",
   "execution_count": 5,
   "metadata": {},
   "outputs": [
    {
     "data": {
      "text/plain": [
       "Index(['Unnamed: 0', 'user_name', 'raw_timestamp_part_1',\n",
       "       'raw_timestamp_part_2', 'cvtd_timestamp', 'new_window', 'num_window',\n",
       "       'roll_belt', 'pitch_belt', 'yaw_belt',\n",
       "       ...\n",
       "       'gyros_forearm_x', 'gyros_forearm_y', 'gyros_forearm_z',\n",
       "       'accel_forearm_x', 'accel_forearm_y', 'accel_forearm_z',\n",
       "       'magnet_forearm_x', 'magnet_forearm_y', 'magnet_forearm_z', 'classe'],\n",
       "      dtype='object', length=160)"
      ]
     },
     "execution_count": 5,
     "metadata": {},
     "output_type": "execute_result"
    }
   ],
   "source": [
    "df.columns"
   ]
  },
  {
   "cell_type": "markdown",
   "metadata": {},
   "source": [
    "#### 정상값이 3% 미만인 컬럼은 제거:"
   ]
  },
  {
   "cell_type": "code",
   "execution_count": 6,
   "metadata": {},
   "outputs": [],
   "source": [
    "isnotZero = np.array(pd.isnull(df).mean(axis=0) < 0.97)\n",
    "df = df.loc[:, isnotZero]"
   ]
  },
  {
   "cell_type": "markdown",
   "metadata": {},
   "source": [
    "#### NA의 비율을 본다. 이제는 0!"
   ]
  },
  {
   "cell_type": "code",
   "execution_count": 7,
   "metadata": {},
   "outputs": [
    {
     "data": {
      "text/plain": [
       "Unnamed: 0              0.0\n",
       "user_name               0.0\n",
       "raw_timestamp_part_1    0.0\n",
       "raw_timestamp_part_2    0.0\n",
       "cvtd_timestamp          0.0\n",
       "new_window              0.0\n",
       "num_window              0.0\n",
       "roll_belt               0.0\n",
       "pitch_belt              0.0\n",
       "yaw_belt                0.0\n",
       "total_accel_belt        0.0\n",
       "gyros_belt_x            0.0\n",
       "gyros_belt_y            0.0\n",
       "gyros_belt_z            0.0\n",
       "accel_belt_x            0.0\n",
       "accel_belt_y            0.0\n",
       "accel_belt_z            0.0\n",
       "magnet_belt_x           0.0\n",
       "magnet_belt_y           0.0\n",
       "magnet_belt_z           0.0\n",
       "roll_arm                0.0\n",
       "pitch_arm               0.0\n",
       "yaw_arm                 0.0\n",
       "total_accel_arm         0.0\n",
       "gyros_arm_x             0.0\n",
       "gyros_arm_y             0.0\n",
       "gyros_arm_z             0.0\n",
       "accel_arm_x             0.0\n",
       "accel_arm_y             0.0\n",
       "accel_arm_z             0.0\n",
       "magnet_arm_x            0.0\n",
       "magnet_arm_y            0.0\n",
       "magnet_arm_z            0.0\n",
       "roll_dumbbell           0.0\n",
       "pitch_dumbbell          0.0\n",
       "yaw_dumbbell            0.0\n",
       "total_accel_dumbbell    0.0\n",
       "gyros_dumbbell_x        0.0\n",
       "gyros_dumbbell_y        0.0\n",
       "gyros_dumbbell_z        0.0\n",
       "accel_dumbbell_x        0.0\n",
       "accel_dumbbell_y        0.0\n",
       "accel_dumbbell_z        0.0\n",
       "magnet_dumbbell_x       0.0\n",
       "magnet_dumbbell_y       0.0\n",
       "magnet_dumbbell_z       0.0\n",
       "roll_forearm            0.0\n",
       "pitch_forearm           0.0\n",
       "yaw_forearm             0.0\n",
       "total_accel_forearm     0.0\n",
       "gyros_forearm_x         0.0\n",
       "gyros_forearm_y         0.0\n",
       "gyros_forearm_z         0.0\n",
       "accel_forearm_x         0.0\n",
       "accel_forearm_y         0.0\n",
       "accel_forearm_z         0.0\n",
       "magnet_forearm_x        0.0\n",
       "magnet_forearm_y        0.0\n",
       "magnet_forearm_z        0.0\n",
       "classe                  0.0\n",
       "dtype: float64"
      ]
     },
     "execution_count": 7,
     "metadata": {},
     "output_type": "execute_result"
    }
   ],
   "source": [
    "pd.isnull(df).mean(axis=0)"
   ]
  },
  {
   "cell_type": "markdown",
   "metadata": {},
   "source": [
    "#### Time label 제거 & 불필요 컬럼 제거:"
   ]
  },
  {
   "cell_type": "code",
   "execution_count": 8,
   "metadata": {},
   "outputs": [
    {
     "name": "stdout",
     "output_type": "stream",
     "text": [
      "(19622, 54)\n"
     ]
    },
    {
     "data": {
      "text/html": [
       "<div>\n",
       "<style scoped>\n",
       "    .dataframe tbody tr th:only-of-type {\n",
       "        vertical-align: middle;\n",
       "    }\n",
       "\n",
       "    .dataframe tbody tr th {\n",
       "        vertical-align: top;\n",
       "    }\n",
       "\n",
       "    .dataframe thead th {\n",
       "        text-align: right;\n",
       "    }\n",
       "</style>\n",
       "<table border=\"1\" class=\"dataframe\">\n",
       "  <thead>\n",
       "    <tr style=\"text-align: right;\">\n",
       "      <th></th>\n",
       "      <th>num_window</th>\n",
       "      <th>roll_belt</th>\n",
       "      <th>pitch_belt</th>\n",
       "      <th>yaw_belt</th>\n",
       "      <th>total_accel_belt</th>\n",
       "      <th>gyros_belt_x</th>\n",
       "      <th>gyros_belt_y</th>\n",
       "      <th>gyros_belt_z</th>\n",
       "      <th>accel_belt_x</th>\n",
       "      <th>accel_belt_y</th>\n",
       "      <th>...</th>\n",
       "      <th>gyros_forearm_x</th>\n",
       "      <th>gyros_forearm_y</th>\n",
       "      <th>gyros_forearm_z</th>\n",
       "      <th>accel_forearm_x</th>\n",
       "      <th>accel_forearm_y</th>\n",
       "      <th>accel_forearm_z</th>\n",
       "      <th>magnet_forearm_x</th>\n",
       "      <th>magnet_forearm_y</th>\n",
       "      <th>magnet_forearm_z</th>\n",
       "      <th>classe</th>\n",
       "    </tr>\n",
       "  </thead>\n",
       "  <tbody>\n",
       "    <tr>\n",
       "      <th>0</th>\n",
       "      <td>11</td>\n",
       "      <td>1.41</td>\n",
       "      <td>8.07</td>\n",
       "      <td>-94.4</td>\n",
       "      <td>3</td>\n",
       "      <td>0.00</td>\n",
       "      <td>0.00</td>\n",
       "      <td>-0.02</td>\n",
       "      <td>-21</td>\n",
       "      <td>4</td>\n",
       "      <td>...</td>\n",
       "      <td>0.03</td>\n",
       "      <td>0.00</td>\n",
       "      <td>-0.02</td>\n",
       "      <td>192</td>\n",
       "      <td>203</td>\n",
       "      <td>-215</td>\n",
       "      <td>-17</td>\n",
       "      <td>654.0</td>\n",
       "      <td>476.0</td>\n",
       "      <td>A</td>\n",
       "    </tr>\n",
       "    <tr>\n",
       "      <th>1</th>\n",
       "      <td>11</td>\n",
       "      <td>1.41</td>\n",
       "      <td>8.07</td>\n",
       "      <td>-94.4</td>\n",
       "      <td>3</td>\n",
       "      <td>0.02</td>\n",
       "      <td>0.00</td>\n",
       "      <td>-0.02</td>\n",
       "      <td>-22</td>\n",
       "      <td>4</td>\n",
       "      <td>...</td>\n",
       "      <td>0.02</td>\n",
       "      <td>0.00</td>\n",
       "      <td>-0.02</td>\n",
       "      <td>192</td>\n",
       "      <td>203</td>\n",
       "      <td>-216</td>\n",
       "      <td>-18</td>\n",
       "      <td>661.0</td>\n",
       "      <td>473.0</td>\n",
       "      <td>A</td>\n",
       "    </tr>\n",
       "    <tr>\n",
       "      <th>2</th>\n",
       "      <td>11</td>\n",
       "      <td>1.42</td>\n",
       "      <td>8.07</td>\n",
       "      <td>-94.4</td>\n",
       "      <td>3</td>\n",
       "      <td>0.00</td>\n",
       "      <td>0.00</td>\n",
       "      <td>-0.02</td>\n",
       "      <td>-20</td>\n",
       "      <td>5</td>\n",
       "      <td>...</td>\n",
       "      <td>0.03</td>\n",
       "      <td>-0.02</td>\n",
       "      <td>0.00</td>\n",
       "      <td>196</td>\n",
       "      <td>204</td>\n",
       "      <td>-213</td>\n",
       "      <td>-18</td>\n",
       "      <td>658.0</td>\n",
       "      <td>469.0</td>\n",
       "      <td>A</td>\n",
       "    </tr>\n",
       "    <tr>\n",
       "      <th>3</th>\n",
       "      <td>12</td>\n",
       "      <td>1.48</td>\n",
       "      <td>8.05</td>\n",
       "      <td>-94.4</td>\n",
       "      <td>3</td>\n",
       "      <td>0.02</td>\n",
       "      <td>0.00</td>\n",
       "      <td>-0.03</td>\n",
       "      <td>-22</td>\n",
       "      <td>3</td>\n",
       "      <td>...</td>\n",
       "      <td>0.02</td>\n",
       "      <td>-0.02</td>\n",
       "      <td>0.00</td>\n",
       "      <td>189</td>\n",
       "      <td>206</td>\n",
       "      <td>-214</td>\n",
       "      <td>-16</td>\n",
       "      <td>658.0</td>\n",
       "      <td>469.0</td>\n",
       "      <td>A</td>\n",
       "    </tr>\n",
       "    <tr>\n",
       "      <th>4</th>\n",
       "      <td>12</td>\n",
       "      <td>1.48</td>\n",
       "      <td>8.07</td>\n",
       "      <td>-94.4</td>\n",
       "      <td>3</td>\n",
       "      <td>0.02</td>\n",
       "      <td>0.02</td>\n",
       "      <td>-0.02</td>\n",
       "      <td>-21</td>\n",
       "      <td>2</td>\n",
       "      <td>...</td>\n",
       "      <td>0.02</td>\n",
       "      <td>0.00</td>\n",
       "      <td>-0.02</td>\n",
       "      <td>189</td>\n",
       "      <td>206</td>\n",
       "      <td>-214</td>\n",
       "      <td>-17</td>\n",
       "      <td>655.0</td>\n",
       "      <td>473.0</td>\n",
       "      <td>A</td>\n",
       "    </tr>\n",
       "  </tbody>\n",
       "</table>\n",
       "<p>5 rows × 54 columns</p>\n",
       "</div>"
      ],
      "text/plain": [
       "   num_window  roll_belt  pitch_belt  yaw_belt  total_accel_belt  \\\n",
       "0          11       1.41        8.07     -94.4                 3   \n",
       "1          11       1.41        8.07     -94.4                 3   \n",
       "2          11       1.42        8.07     -94.4                 3   \n",
       "3          12       1.48        8.05     -94.4                 3   \n",
       "4          12       1.48        8.07     -94.4                 3   \n",
       "\n",
       "   gyros_belt_x  gyros_belt_y  gyros_belt_z  accel_belt_x  accel_belt_y  \\\n",
       "0          0.00          0.00         -0.02           -21             4   \n",
       "1          0.02          0.00         -0.02           -22             4   \n",
       "2          0.00          0.00         -0.02           -20             5   \n",
       "3          0.02          0.00         -0.03           -22             3   \n",
       "4          0.02          0.02         -0.02           -21             2   \n",
       "\n",
       "    ...    gyros_forearm_x  gyros_forearm_y  gyros_forearm_z  accel_forearm_x  \\\n",
       "0   ...               0.03             0.00            -0.02              192   \n",
       "1   ...               0.02             0.00            -0.02              192   \n",
       "2   ...               0.03            -0.02             0.00              196   \n",
       "3   ...               0.02            -0.02             0.00              189   \n",
       "4   ...               0.02             0.00            -0.02              189   \n",
       "\n",
       "   accel_forearm_y  accel_forearm_z  magnet_forearm_x  magnet_forearm_y  \\\n",
       "0              203             -215               -17             654.0   \n",
       "1              203             -216               -18             661.0   \n",
       "2              204             -213               -18             658.0   \n",
       "3              206             -214               -16             658.0   \n",
       "4              206             -214               -17             655.0   \n",
       "\n",
       "   magnet_forearm_z  classe  \n",
       "0             476.0       A  \n",
       "1             473.0       A  \n",
       "2             469.0       A  \n",
       "3             469.0       A  \n",
       "4             473.0       A  \n",
       "\n",
       "[5 rows x 54 columns]"
      ]
     },
     "execution_count": 8,
     "metadata": {},
     "output_type": "execute_result"
    }
   ],
   "source": [
    "header =df.columns\n",
    "isnotTime = []\n",
    "for col in header:\n",
    "    if \"time\" in col:\n",
    "        isnotTime.append(False)\n",
    "    else:\n",
    "        isnotTime.append(True)\n",
    "df = df.loc[:, isnotTime]\n",
    "#df_test = df_test.loc[:, isnotTime]\n",
    "df = df.drop(columns = ['Unnamed: 0','user_name','new_window'])\n",
    "#df_test = df_test.drop(columns = ['Unnamed: 0','user_name','new_window','problem_id'])\n",
    "print(df.shape)\n",
    "df.head(5)"
   ]
  },
  {
   "cell_type": "code",
   "execution_count": 9,
   "metadata": {},
   "outputs": [],
   "source": [
    "LE = preprocessing.LabelEncoder()\n",
    "X = np.array(df.drop(columns='classe'))\n",
    "Y = np.array(df.loc[:,'classe'])\n",
    "Y = LE.fit_transform(Y)"
   ]
  },
  {
   "cell_type": "markdown",
   "metadata": {},
   "source": [
    "#### KNN 적용:"
   ]
  },
  {
   "cell_type": "code",
   "execution_count": 10,
   "metadata": {},
   "outputs": [
    {
     "name": "stdout",
     "output_type": "stream",
     "text": [
      "Accuracy : 0.945\n"
     ]
    }
   ],
   "source": [
    "X_train, X_test, Y_train, Y_test = train_test_split(X, Y, test_size=0.3, random_state=3)\n",
    "knn = KNeighborsClassifier(n_neighbors=5, weights ='distance')\n",
    "knn.fit(X_train, Y_train);\n",
    "Y_pred = knn.predict(X_test)\n",
    "print( \"Accuracy : \" + str(np.round(metrics.accuracy_score(Y_test,Y_pred),3)))"
   ]
  },
  {
   "cell_type": "markdown",
   "metadata": {},
   "source": [
    "#### KNN의 매개변수 최적화:"
   ]
  },
  {
   "cell_type": "code",
   "execution_count": null,
   "metadata": {},
   "outputs": [],
   "source": [
    "k_grid = np.arange(1,51,1)\n",
    "weights = ['uniform','distance']\n",
    "parameters = {'n_neighbors':k_grid, 'weights':weights}"
   ]
  },
  {
   "cell_type": "code",
   "execution_count": null,
   "metadata": {},
   "outputs": [],
   "source": [
    "gridCV = GridSearchCV(KNeighborsClassifier(), parameters, cv=10)\n",
    "gridCV.fit(X_train, Y_train);\n",
    "best_k = gridCV.best_params_['n_neighbors']\n",
    "best_w = gridCV.best_params_['weights']"
   ]
  },
  {
   "cell_type": "code",
   "execution_count": null,
   "metadata": {},
   "outputs": [],
   "source": [
    "print(\"Best k : \" + str(best_k))\n",
    "print(\"Best weight : \" + best_w)"
   ]
  },
  {
   "cell_type": "code",
   "execution_count": null,
   "metadata": {},
   "outputs": [],
   "source": [
    "knn_best = KNeighborsClassifier(n_neighbors=best_k, weights = best_w)\n",
    "knn_best.fit(X_train, Y_train);\n",
    "Y_pred = knn_best.predict(X_test)\n",
    "print( \"Best Accuracy : \" + str(np.round(metrics.accuracy_score(Y_test,Y_pred),3)))"
   ]
  },
  {
   "cell_type": "markdown",
   "metadata": {},
   "source": [
    "#### KNN + PCA 적용:"
   ]
  },
  {
   "cell_type": "code",
   "execution_count": 13,
   "metadata": {},
   "outputs": [
    {
     "name": "stdout",
     "output_type": "stream",
     "text": [
      "Accuracy : 0.945\n"
     ]
    }
   ],
   "source": [
    "pca = PCA(n_components = 40)\n",
    "X_pca = pca.fit_transform(X)\n",
    "X_train, X_test, Y_train, Y_test = train_test_split(X_pca,Y, test_size=0.3, random_state=3)\n",
    "knn = KNeighborsClassifier(n_neighbors=5, weights ='distance')\n",
    "knn.fit(X_train, Y_train);\n",
    "Y_pred = knn.predict(X_test)\n",
    "print( \"Accuracy : \" + str(np.round(metrics.accuracy_score(Y_test,Y_pred),3)))"
   ]
  },
  {
   "cell_type": "code",
   "execution_count": null,
   "metadata": {},
   "outputs": [],
   "source": []
  }
 ],
 "metadata": {
  "kernelspec": {
   "display_name": "Python 3",
   "language": "python",
   "name": "python3"
  },
  "language_info": {
   "codemirror_mode": {
    "name": "ipython",
    "version": 3
   },
   "file_extension": ".py",
   "mimetype": "text/x-python",
   "name": "python",
   "nbconvert_exporter": "python",
   "pygments_lexer": "ipython3",
   "version": "3.6.5"
  }
 },
 "nbformat": 4,
 "nbformat_minor": 2
}
