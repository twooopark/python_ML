{
 "cells": [
  {
   "cell_type": "markdown",
   "metadata": {},
   "source": [
    "### 다음 물음에 답하는 코드를 작성하시오. "
   ]
  },
  {
   "cell_type": "markdown",
   "metadata": {},
   "source": [
    "1). A학급의 학생 이름은 다음과 같다:\n",
    "\n",
    "Bob <br>\n",
    "John <br>\n",
    "Sara <br>\n",
    "Jack <br>\n",
    "John <br>\n",
    "Paul <br>\n",
    "Belinda <br>\n",
    "Jessica <br>\n",
    "\n",
    "위 자료를 리스트 a로 정리해본다."
   ]
  },
  {
   "cell_type": "code",
   "execution_count": 1,
   "metadata": {},
   "outputs": [],
   "source": [
    "a = ['Bob', 'John', 'Sara', 'Jack', 'John', 'Paul', 'Belinda', 'Jessica' ]"
   ]
  },
  {
   "cell_type": "markdown",
   "metadata": {},
   "source": [
    "학생 이름을 대문자화 한 리스트 A를 만들어 보아라."
   ]
  },
  {
   "cell_type": "code",
   "execution_count": 2,
   "metadata": {},
   "outputs": [
    {
     "data": {
      "text/plain": [
       "['BOB', 'JOHN', 'SARA', 'JACK', 'JOHN', 'PAUL', 'BELINDA', 'JESSICA']"
      ]
     },
     "execution_count": 2,
     "metadata": {},
     "output_type": "execute_result"
    }
   ],
   "source": [
    "A = []\n",
    "for x in a:\n",
    "    A.append(x.upper())\n",
    "A"
   ]
  },
  {
   "cell_type": "markdown",
   "metadata": {},
   "source": [
    "2). B학급의 학생 이름은 다음과 같다:\n",
    "\n",
    "John <br>\n",
    "John <br>\n",
    "Rebecca <br>\n",
    "Paula <br>\n",
    "Brandon <br>\n",
    "Elilzabeth <br>\n",
    "Sara <br>\n",
    "\n",
    "A학급과 같은 방법으로 대문자화 한 리스트 B를 만들어 보아라."
   ]
  },
  {
   "cell_type": "code",
   "execution_count": 3,
   "metadata": {},
   "outputs": [
    {
     "data": {
      "text/plain": [
       "['JOHN', 'JOHN', 'REBECCA', 'PAULA', 'BRANDON', 'ELILZABETH', 'SARA']"
      ]
     },
     "execution_count": 3,
     "metadata": {},
     "output_type": "execute_result"
    }
   ],
   "source": [
    "b = ['John', 'John', 'Rebecca', 'Paula', 'Brandon', 'Elilzabeth', 'Sara']\n",
    "B = []\n",
    "for x in b:\n",
    "    B.append(x.upper())\n",
    "B"
   ]
  },
  {
   "cell_type": "markdown",
   "metadata": {},
   "source": [
    "3). A학급과 B학급 명부를 통합한 리스트 AB를 만든다. (이어 붙이기) <br>\n",
    "\n",
    "전체 학생수는?"
   ]
  },
  {
   "cell_type": "code",
   "execution_count": 4,
   "metadata": {},
   "outputs": [
    {
     "name": "stdout",
     "output_type": "stream",
     "text": [
      "['BOB', 'JOHN', 'SARA', 'JACK', 'JOHN', 'PAUL', 'BELINDA', 'JESSICA', 'JOHN', 'JOHN', 'REBECCA', 'PAULA', 'BRANDON', 'ELILZABETH', 'SARA']\n",
      "15\n"
     ]
    }
   ],
   "source": [
    "AB = A + B\n",
    "print(AB)\n",
    "print(len(AB))"
   ]
  },
  {
   "cell_type": "markdown",
   "metadata": {},
   "source": [
    "4). 통합 리스트 AB를 알파벳 순으로 정렬해 본다."
   ]
  },
  {
   "cell_type": "code",
   "execution_count": 5,
   "metadata": {},
   "outputs": [
    {
     "data": {
      "text/plain": [
       "['BELINDA',\n",
       " 'BOB',\n",
       " 'BRANDON',\n",
       " 'ELILZABETH',\n",
       " 'JACK',\n",
       " 'JESSICA',\n",
       " 'JOHN',\n",
       " 'JOHN',\n",
       " 'JOHN',\n",
       " 'JOHN',\n",
       " 'PAUL',\n",
       " 'PAULA',\n",
       " 'REBECCA',\n",
       " 'SARA',\n",
       " 'SARA']"
      ]
     },
     "execution_count": 5,
     "metadata": {},
     "output_type": "execute_result"
    }
   ],
   "source": [
    "AB.sort()\n",
    "AB"
   ]
  },
  {
   "cell_type": "markdown",
   "metadata": {},
   "source": [
    "5). 통합 리스트 AB에서 서로 다른 이름의 가짓수는?"
   ]
  },
  {
   "cell_type": "code",
   "execution_count": 6,
   "metadata": {},
   "outputs": [
    {
     "name": "stdout",
     "output_type": "stream",
     "text": [
      "11\n"
     ]
    }
   ],
   "source": [
    "count = 0\n",
    "y = ''\n",
    "for x in AB:\n",
    "    if ( x != y):\n",
    "        count +=1\n",
    "    y = x\n",
    "print(count)"
   ]
  },
  {
   "cell_type": "markdown",
   "metadata": {},
   "source": [
    "6). 통합 리스트 AB에서 'J'로 시작하는 이름만 출력해 본다. "
   ]
  },
  {
   "cell_type": "code",
   "execution_count": 7,
   "metadata": {},
   "outputs": [
    {
     "name": "stdout",
     "output_type": "stream",
     "text": [
      "JACK\n",
      "JESSICA\n",
      "JOHN\n",
      "JOHN\n",
      "JOHN\n",
      "JOHN\n"
     ]
    }
   ],
   "source": [
    "for x in AB:\n",
    "    if (x[0] == 'J'):\n",
    "        print(x)"
   ]
  },
  {
   "cell_type": "markdown",
   "metadata": {},
   "source": [
    "7). 통합 리스트 AB에서 'A'로 끝나는 이름만 출력해 본다."
   ]
  },
  {
   "cell_type": "code",
   "execution_count": 8,
   "metadata": {},
   "outputs": [
    {
     "name": "stdout",
     "output_type": "stream",
     "text": [
      "BELINDA\n",
      "JESSICA\n",
      "PAULA\n",
      "REBECCA\n",
      "SARA\n",
      "SARA\n"
     ]
    }
   ],
   "source": [
    "for x in AB:\n",
    "    if (x[-1] == 'A'):\n",
    "        print(x)"
   ]
  },
  {
   "cell_type": "code",
   "execution_count": null,
   "metadata": {},
   "outputs": [],
   "source": []
  }
 ],
 "metadata": {
  "kernelspec": {
   "display_name": "Python 3",
   "language": "python",
   "name": "python3"
  },
  "language_info": {
   "codemirror_mode": {
    "name": "ipython",
    "version": 3
   },
   "file_extension": ".py",
   "mimetype": "text/x-python",
   "name": "python",
   "nbconvert_exporter": "python",
   "pygments_lexer": "ipython3",
   "version": "3.6.5"
  }
 },
 "nbformat": 4,
 "nbformat_minor": 2
}
