{
 "cells": [
  {
   "cell_type": "code",
   "execution_count": 53,
   "metadata": {},
   "outputs": [],
   "source": [
    "%matplotlib inline\n",
    "import numpy as np\n",
    "import pandas as pd\n",
    "import matplotlib.pyplot as plt\n",
    "import os\n",
    "from sklearn.model_selection import train_test_split,RandomizedSearchCV, GridSearchCV\n",
    "from sklearn.neural_network import MLPClassifier\n",
    "from sklearn import metrics, preprocessing"
   ]
  },
  {
   "cell_type": "code",
   "execution_count": 54,
   "metadata": {},
   "outputs": [],
   "source": [
    "os.chdir(r\"D:\\python_ML\\python_ml_basic\\data\")"
   ]
  },
  {
   "cell_type": "code",
   "execution_count": 114,
   "metadata": {},
   "outputs": [
    {
     "name": "stderr",
     "output_type": "stream",
     "text": [
      "D:\\python_ML\\venv\\lib\\site-packages\\IPython\\core\\interactiveshell.py:2785: DtypeWarning: Columns (11,14,19,22,25,70,73,86,87,89,90,94,97,100) have mixed types. Specify dtype option on import or set low_memory=False.\n  interactivity=interactivity, compiler=compiler, result=result)\n"
     ]
    }
   ],
   "source": [
    "df = pd.read_csv('data_activity_training.csv', header='infer',encoding='latin1')\n",
    "# print(df)"
   ]
  },
  {
   "cell_type": "code",
   "execution_count": 115,
   "metadata": {},
   "outputs": [],
   "source": [
    "# 결측치 3퍼 이상인것 제거\n",
    "isnotZero = np.array(pd.isnull(df).mean(axis=0) <0.97)\n",
    "df = df.loc[:,isnotZero]\n",
    "# print(df)"
   ]
  },
  {
   "cell_type": "code",
   "execution_count": 119,
   "metadata": {
    "collapsed": false
   },
   "outputs": [
    {
     "name": "stdout",
     "output_type": "stream",
     "text": [
      "       num_window  roll_belt  pitch_belt  yaw_belt  total_accel_belt  \\\n0              11       1.41        8.07     -94.4                 3   \n1              11       1.41        8.07     -94.4                 3   \n2              11       1.42        8.07     -94.4                 3   \n3              12       1.48        8.05     -94.4                 3   \n4              12       1.48        8.07     -94.4                 3   \n5              12       1.45        8.06     -94.4                 3   \n6              12       1.42        8.09     -94.4                 3   \n7              12       1.42        8.13     -94.4                 3   \n8              12       1.43        8.16     -94.4                 3   \n9              12       1.45        8.17     -94.4                 3   \n10             12       1.45        8.18     -94.4                 3   \n11             12       1.43        8.18     -94.4                 3   \n12             12       1.42        8.20     -94.4                 3   \n13             12       1.42        8.21     -94.4                 3   \n14             12       1.45        8.20     -94.4                 3   \n15             12       1.48        8.15     -94.4                 3   \n16             12       1.51        8.12     -94.4                 3   \n17             12       1.55        8.08     -94.4                 3   \n18             12       1.57        8.06     -94.4                 3   \n19             12       1.59        8.07     -94.4                 3   \n20             12       1.60        8.10     -94.4                 3   \n21             12       1.57        8.09     -94.4                 3   \n22             12       1.56        8.10     -94.3                 3   \n23             12       1.51        8.10     -94.4                 3   \n24             13       1.53        8.11     -94.4                 3   \n25             13       1.55        8.09     -94.4                 3   \n26             13       1.54        8.11     -94.4                 3   \n27             13       1.53        8.14     -94.4                 3   \n28             13       1.52        8.16     -94.4                 3   \n29             13       1.52        8.17     -94.4                 3   \n...           ...        ...         ...       ...               ...   \n19592         847       8.16        3.80     -91.1                 2   \n19593         847       8.00        3.97     -91.1                 2   \n19594         847       7.85        4.18     -91.1                 2   \n19595         847       7.69        4.34     -91.1                 2   \n19596         863     125.00      -48.70    -171.0                20   \n19597         863     126.00      -47.40    -173.0                19   \n19598         863     128.00      -44.20     178.0                19   \n19599         863     129.00      -43.90     177.0                19   \n19600         863     129.00      -42.00     173.0                17   \n19601         863     127.00      -39.90     172.0                18   \n19602         863     127.00      -39.30     171.0                17   \n19603         863     126.00      -37.90     168.0                18   \n19604         863     125.00      -37.00     164.0                16   \n19605         863     125.00      -36.70     163.0                16   \n19606         863     125.00      -36.30     162.0                16   \n19607         863     124.00      -36.20     161.0                17   \n19608         864     157.00      -32.00     124.0                25   \n19609         864     156.00      -32.00     124.0                25   \n19610         864     156.00      -32.10     124.0                25   \n19611         864     156.00      -32.30     124.0                25   \n19612         864     155.00      -32.60     125.0                24   \n19613         864     154.00      -32.70     125.0                24   \n19614         864     154.00      -32.90     126.0                24   \n19615         864     151.00      -33.80     127.0                23   \n19616         864     148.00      -34.70     129.0                21   \n19617         864     147.00      -34.80     129.0                21   \n19618         864     145.00      -35.30     130.0                19   \n19619         864     145.00      -35.50     130.0                19   \n19620         864     143.00      -35.90     131.0                18   \n19621         864     143.00      -36.00     132.0                18   \n\n       gyros_belt_x  gyros_belt_y  gyros_belt_z  accel_belt_x  accel_belt_y  \\\n0              0.00          0.00         -0.02           -21             4   \n1              0.02          0.00         -0.02           -22             4   \n2              0.00          0.00         -0.02           -20             5   \n3              0.02          0.00         -0.03           -22             3   \n4              0.02          0.02         -0.02           -21             2   \n5              0.02          0.00         -0.02           -21             4   \n6              0.02          0.00         -0.02           -22             3   \n7              0.02          0.00         -0.02           -22             4   \n8              0.02          0.00         -0.02           -20             2   \n9              0.03          0.00          0.00           -21             4   \n10             0.03          0.00         -0.02           -21             2   \n11             0.02          0.00         -0.02           -22             2   \n12             0.02          0.00          0.00           -22             4   \n13             0.02          0.00         -0.02           -22             4   \n14             0.00          0.00          0.00           -21             2   \n15             0.00          0.00          0.00           -21             4   \n16             0.00          0.00         -0.02           -21             4   \n17             0.00          0.02          0.00           -21             5   \n18             0.00          0.00         -0.02           -20             5   \n19             0.02          0.00         -0.02           -22             5   \n20             0.02          0.00         -0.02           -20             1   \n21             0.02          0.02         -0.02           -21             3   \n22             0.02          0.00         -0.02           -21             4   \n23             0.02          0.00         -0.02           -20             4   \n24             0.03          0.00          0.00           -19             4   \n25             0.02          0.00          0.00           -21             3   \n26             0.03          0.00         -0.02           -22             3   \n27             0.03          0.00         -0.02           -21             3   \n28             0.03          0.00         -0.02           -20             4   \n29             0.03          0.00         -0.02           -21             4   \n...             ...           ...           ...           ...           ...   \n19592          0.10          0.02         -0.03           -13            11   \n19593          0.10          0.00         -0.07           -16            15   \n19594          0.08         -0.02         -0.11           -15            17   \n19595          0.06         -0.03         -0.16           -14            15   \n19596         -0.42          0.13         -0.43             9            57   \n19597         -0.47          0.21         -0.48             8            54   \n19598         -0.43          0.42         -0.54            13            50   \n19599         -0.42          0.35         -0.52            27            59   \n19600         -0.37          0.06         -0.46            46            61   \n19601         -0.39         -0.05         -0.67            33            73   \n19602         -0.42          0.03         -0.79            27            63   \n19603         -0.45          0.11         -0.84            72            46   \n19604         -0.39          0.19         -0.62            49            32   \n19605         -0.42          0.16         -0.61            56            31   \n19606         -0.37          0.14         -0.51            70            22   \n19607         -0.22          0.13         -0.43            85            27   \n19608          0.18          0.06         -0.23            68            54   \n19609          0.21          0.06         -0.25            71            53   \n19610          0.22          0.05         -0.28            74            52   \n19611          0.26          0.05         -0.30            74            57   \n19612          0.27          0.06         -0.36            65            53   \n19613          0.29          0.05         -0.36            67            51   \n19614          0.31          0.05         -0.41            69            52   \n19615          0.35          0.02         -0.54            60            47   \n19616          0.37          0.00         -0.62            49            25   \n19617          0.37         -0.02         -0.67            50            26   \n19618          0.39         -0.02         -0.67            47            15   \n19619          0.37          0.00         -0.64            47            13   \n19620          0.37         -0.02         -0.59            46            18   \n19621          0.35         -0.02         -0.57            42            25   \n\n        ...    gyros_forearm_x  gyros_forearm_y  gyros_forearm_z  \\\n0       ...               0.03             0.00            -0.02   \n1       ...               0.02             0.00            -0.02   \n2       ...               0.03            -0.02             0.00   \n3       ...               0.02            -0.02             0.00   \n4       ...               0.02             0.00            -0.02   \n5       ...               0.02            -0.02            -0.03   \n6       ...               0.02             0.00            -0.02   \n7       ...               0.02            -0.02             0.00   \n8       ...               0.03             0.00            -0.02   \n9       ...               0.02             0.00            -0.02   \n10      ...               0.02            -0.02            -0.02   \n11      ...               0.02             0.02            -0.03   \n12      ...               0.00             0.00            -0.03   \n13      ...               0.00            -0.02            -0.03   \n14      ...               0.00            -0.02            -0.02   \n15      ...               0.02             0.00             0.00   \n16      ...               0.02            -0.02             0.00   \n17      ...               0.02             0.00            -0.02   \n18      ...               0.02             0.00            -0.02   \n19      ...               0.02            -0.02             0.00   \n20      ...               0.03            -0.03            -0.02   \n21      ...               0.02            -0.03            -0.02   \n22      ...               0.02            -0.02            -0.02   \n23      ...               0.03            -0.03             0.00   \n24      ...               0.05            -0.03             0.00   \n25      ...               0.03             0.00             0.00   \n26      ...               0.03             0.00             0.00   \n27      ...               0.02             0.02            -0.02   \n28      ...               0.02            -0.02            -0.03   \n29      ...               0.02            -0.02            -0.03   \n...     ...                ...              ...              ...   \n19592   ...               0.16             2.12             0.51   \n19593   ...               0.08             2.33             0.49   \n19594   ...               0.08             2.62             0.51   \n19595   ...               0.08             2.83             0.64   \n19596   ...              -0.61             4.56             1.12   \n19597   ...              -0.67             4.61             1.28   \n19598   ...               0.19             4.50             2.00   \n19599   ...               0.22             4.06             1.84   \n19600   ...               0.51             3.15             1.36   \n19601   ...               0.40             2.79             1.10   \n19602   ...               0.61             2.76             1.07   \n19603   ...               0.71             2.10             1.26   \n19604   ...               1.09             1.35             1.64   \n19605   ...               1.20             1.30             1.76   \n19606   ...               1.27             1.28             1.82   \n19607   ...               1.33             1.14             1.84   \n19608   ...               1.40            -3.10            -0.59   \n19609   ...               1.38            -2.94            -0.52   \n19610   ...               1.38            -2.94            -0.48   \n19611   ...               1.46            -3.08            -0.49   \n19612   ...               1.38            -2.86            -0.56   \n19613   ...               1.36            -2.83            -0.61   \n19614   ...               1.33            -2.89            -0.71   \n19615   ...               1.51            -2.18            -1.02   \n19616   ...               1.75            -1.91            -0.38   \n19617   ...               1.73            -1.75            -0.25   \n19618   ...               1.59            -1.36             0.00   \n19619   ...               1.54            -1.20             0.05   \n19620   ...               1.48            -0.90             0.05   \n19621   ...               1.38            -0.64             0.08   \n\n       accel_forearm_x  accel_forearm_y  accel_forearm_z  magnet_forearm_x  \\\n0                  192              203             -215               -17   \n1                  192              203             -216               -18   \n2                  196              204             -213               -18   \n3                  189              206             -214               -16   \n4                  189              206             -214               -17   \n5                  193              203             -215                -9   \n6                  195              205             -215               -18   \n7                  193              205             -213                -9   \n8                  193              204             -214               -16   \n9                  190              205             -215               -22   \n10                 193              205             -214               -17   \n11                 191              203             -215               -11   \n12                 193              205             -215               -15   \n13                 193              202             -214               -14   \n14                 192              201             -214               -16   \n15                 194              204             -215               -13   \n16                 192              204             -213               -13   \n17                 192              206             -216               -16   \n18                 192              203             -216               -10   \n19                 193              205             -215                -9   \n20                 194              208             -214               -11   \n21                 191              206             -213               -17   \n22                 194              206             -214               -10   \n23                 193              203             -213               -11   \n24                 191              202             -214               -14   \n25                 190              203             -216               -16   \n26                 192              204             -214               -14   \n27                 193              206             -217               -14   \n28                 195              205             -217               -12   \n29                 189              204             -217                -4   \n...                ...              ...              ...               ...   \n19592               57             -210             -246               243   \n19593               50             -210             -245               224   \n19594               37             -217             -237               185   \n19595               33             -224             -234               157   \n19596             -237              298               33              -703   \n19597             -107              309               70              -693   \n19598               24              505                7              -463   \n19599               38              496                4              -408   \n19600               64              501                0              -204   \n19601               81              461              -14               -92   \n19602               89              450               -9               -68   \n19603               66              425              -14                 2   \n19604               53              393              -24                67   \n19605               38              391              -35                89   \n19606               40              394              -44                91   \n19607               52              401              -53               109   \n19608             -201              323                5              -706   \n19609             -193              307                8              -699   \n19610             -193              291                3              -683   \n19611             -203              266               -4              -672   \n19612             -227              236               -1              -622   \n19613             -227              221                0              -592   \n19614             -230              200               -8              -571   \n19615             -241               33              -17              -377   \n19616             -255              -50              -30              -226   \n19617             -271              -68              -37              -205   \n19618             -271              -91              -43              -151   \n19619             -263              -99              -45              -116   \n19620             -270             -141              -51               -68   \n19621             -278             -159              -52               -60   \n\n       magnet_forearm_y  magnet_forearm_z  classe  \n0                 654.0             476.0       A  \n1                 661.0             473.0       A  \n2                 658.0             469.0       A  \n3                 658.0             469.0       A  \n4                 655.0             473.0       A  \n5                 660.0             478.0       A  \n6                 659.0             470.0       A  \n7                 660.0             474.0       A  \n8                 653.0             476.0       A  \n9                 656.0             473.0       A  \n10                657.0             465.0       A  \n11                657.0             478.0       A  \n12                655.0             472.0       A  \n13                659.0             478.0       A  \n14                656.0             472.0       A  \n15                656.0             471.0       A  \n16                653.0             481.0       A  \n17                653.0             472.0       A  \n18                657.0             466.0       A  \n19                657.0             480.0       A  \n20                654.0             469.0       A  \n21                654.0             478.0       A  \n22                653.0             467.0       A  \n23                661.0             470.0       A  \n24                667.0             470.0       A  \n25                658.0             462.0       A  \n26                657.0             467.0       A  \n27                657.0             477.0       A  \n28                657.0             469.0       A  \n29                661.0             479.0       A  \n...                 ...               ...     ...  \n19592            -665.0            -137.0       E  \n19593            -672.0            -132.0       E  \n19594            -673.0            -117.0       E  \n19595            -672.0            -108.0       E  \n19596             382.0             803.0       E  \n19597             517.0             890.0       E  \n19598             839.0             905.0       E  \n19599             852.0             878.0       E  \n19600             821.0             777.0       E  \n19601             765.0             700.0       E  \n19602             752.0             684.0       E  \n19603             712.0             630.0       E  \n19604             653.0             537.0       E  \n19605             633.0             512.0       E  \n19606             629.0             488.0       E  \n19607             613.0             460.0       E  \n19608             273.0             620.0       E  \n19609             229.0             596.0       E  \n19610             152.0             555.0       E  \n19611             119.0             540.0       E  \n19612             -11.0             480.0       E  \n19613             -85.0             431.0       E  \n19614            -126.0             404.0       E  \n19615            -420.0             173.0       E  \n19616            -570.0              27.0       E  \n19617            -587.0               6.0       E  \n19618            -635.0             -36.0       E  \n19619            -654.0             -70.0       E  \n19620            -678.0             -98.0       E  \n19621            -686.0            -110.0       E  \n\n[19622 rows x 54 columns]\n"
     ]
    }
   ],
   "source": [
    "# 특정 컬럼 제거\n",
    "headerT = df.filter(regex='time',axis=1).columns\n",
    "df2 = df.drop(columns=headerT)\n",
    "df2 = df2.drop(columns=['Unnamed: 0','user_name','new_window'])\n",
    "print(df2)"
   ]
  },
  {
   "cell_type": "code",
   "execution_count": 11,
   "metadata": {},
   "outputs": [
    {
     "ename": "KeyError",
     "evalue": "\"['is_spam'] not found in axis\"",
     "traceback": [
      "\u001b[1;31m---------------------------------------------------------------------------\u001b[0m",
      "\u001b[1;31mKeyError\u001b[0m                                  Traceback (most recent call last)",
      "\u001b[1;32m<ipython-input-11-23abc9f67d94>\u001b[0m in \u001b[0;36m<module>\u001b[1;34m()\u001b[0m\n\u001b[1;32m----> 1\u001b[1;33m \u001b[0mX\u001b[0m\u001b[1;33m=\u001b[0m\u001b[0mnp\u001b[0m\u001b[1;33m.\u001b[0m\u001b[0marray\u001b[0m\u001b[1;33m(\u001b[0m\u001b[0mdf\u001b[0m\u001b[1;33m.\u001b[0m\u001b[0mdrop\u001b[0m\u001b[1;33m(\u001b[0m\u001b[0mcolumns\u001b[0m\u001b[1;33m=\u001b[0m\u001b[1;34m'is_spam'\u001b[0m\u001b[1;33m)\u001b[0m\u001b[1;33m)\u001b[0m\u001b[1;33m\u001b[0m\u001b[0m\n\u001b[0m\u001b[0;32m      2\u001b[0m \u001b[0mprint\u001b[0m\u001b[1;33m(\u001b[0m\u001b[0mX\u001b[0m\u001b[1;33m)\u001b[0m\u001b[1;33m\u001b[0m\u001b[0m\n\u001b[0;32m      3\u001b[0m \u001b[0mY\u001b[0m\u001b[1;33m=\u001b[0m\u001b[0mnp\u001b[0m\u001b[1;33m.\u001b[0m\u001b[0marray\u001b[0m\u001b[1;33m(\u001b[0m\u001b[0mdf\u001b[0m\u001b[1;33m.\u001b[0m\u001b[0mis_spam\u001b[0m\u001b[1;33m)\u001b[0m\u001b[1;33m\u001b[0m\u001b[0m\n\u001b[0;32m      4\u001b[0m \u001b[0mheader\u001b[0m \u001b[1;33m=\u001b[0m \u001b[0mdf\u001b[0m\u001b[1;33m.\u001b[0m\u001b[0mcolumns\u001b[0m\u001b[1;33m\u001b[0m\u001b[0m\n\u001b[0;32m      5\u001b[0m \u001b[0mheaderX\u001b[0m \u001b[1;33m=\u001b[0m \u001b[0mdf\u001b[0m\u001b[1;33m.\u001b[0m\u001b[0mdrop\u001b[0m\u001b[1;33m(\u001b[0m\u001b[0mcolumns\u001b[0m\u001b[1;33m=\u001b[0m\u001b[1;34m'is_spam'\u001b[0m\u001b[1;33m)\u001b[0m\u001b[1;33m.\u001b[0m\u001b[0mcolumns\u001b[0m\u001b[1;33m\u001b[0m\u001b[0m\n",
      "\u001b[1;32mD:\\python_ML\\venv\\lib\\site-packages\\pandas\\core\\frame.py\u001b[0m in \u001b[0;36mdrop\u001b[1;34m(self, labels, axis, index, columns, level, inplace, errors)\u001b[0m\n\u001b[0;32m   3695\u001b[0m                                            \u001b[0mindex\u001b[0m\u001b[1;33m=\u001b[0m\u001b[0mindex\u001b[0m\u001b[1;33m,\u001b[0m \u001b[0mcolumns\u001b[0m\u001b[1;33m=\u001b[0m\u001b[0mcolumns\u001b[0m\u001b[1;33m,\u001b[0m\u001b[1;33m\u001b[0m\u001b[0m\n\u001b[0;32m   3696\u001b[0m                                            \u001b[0mlevel\u001b[0m\u001b[1;33m=\u001b[0m\u001b[0mlevel\u001b[0m\u001b[1;33m,\u001b[0m \u001b[0minplace\u001b[0m\u001b[1;33m=\u001b[0m\u001b[0minplace\u001b[0m\u001b[1;33m,\u001b[0m\u001b[1;33m\u001b[0m\u001b[0m\n\u001b[1;32m-> 3697\u001b[1;33m                                            errors=errors)\n\u001b[0m\u001b[0;32m   3698\u001b[0m \u001b[1;33m\u001b[0m\u001b[0m\n\u001b[0;32m   3699\u001b[0m     @rewrite_axis_style_signature('mapper', [('copy', True),\n",
      "\u001b[1;32mD:\\python_ML\\venv\\lib\\site-packages\\pandas\\core\\generic.py\u001b[0m in \u001b[0;36mdrop\u001b[1;34m(self, labels, axis, index, columns, level, inplace, errors)\u001b[0m\n\u001b[0;32m   3109\u001b[0m         \u001b[1;32mfor\u001b[0m \u001b[0maxis\u001b[0m\u001b[1;33m,\u001b[0m \u001b[0mlabels\u001b[0m \u001b[1;32min\u001b[0m \u001b[0maxes\u001b[0m\u001b[1;33m.\u001b[0m\u001b[0mitems\u001b[0m\u001b[1;33m(\u001b[0m\u001b[1;33m)\u001b[0m\u001b[1;33m:\u001b[0m\u001b[1;33m\u001b[0m\u001b[0m\n\u001b[0;32m   3110\u001b[0m             \u001b[1;32mif\u001b[0m \u001b[0mlabels\u001b[0m \u001b[1;32mis\u001b[0m \u001b[1;32mnot\u001b[0m \u001b[1;32mNone\u001b[0m\u001b[1;33m:\u001b[0m\u001b[1;33m\u001b[0m\u001b[0m\n\u001b[1;32m-> 3111\u001b[1;33m                 \u001b[0mobj\u001b[0m \u001b[1;33m=\u001b[0m \u001b[0mobj\u001b[0m\u001b[1;33m.\u001b[0m\u001b[0m_drop_axis\u001b[0m\u001b[1;33m(\u001b[0m\u001b[0mlabels\u001b[0m\u001b[1;33m,\u001b[0m \u001b[0maxis\u001b[0m\u001b[1;33m,\u001b[0m \u001b[0mlevel\u001b[0m\u001b[1;33m=\u001b[0m\u001b[0mlevel\u001b[0m\u001b[1;33m,\u001b[0m \u001b[0merrors\u001b[0m\u001b[1;33m=\u001b[0m\u001b[0merrors\u001b[0m\u001b[1;33m)\u001b[0m\u001b[1;33m\u001b[0m\u001b[0m\n\u001b[0m\u001b[0;32m   3112\u001b[0m \u001b[1;33m\u001b[0m\u001b[0m\n\u001b[0;32m   3113\u001b[0m         \u001b[1;32mif\u001b[0m \u001b[0minplace\u001b[0m\u001b[1;33m:\u001b[0m\u001b[1;33m\u001b[0m\u001b[0m\n",
      "\u001b[1;32mD:\\python_ML\\venv\\lib\\site-packages\\pandas\\core\\generic.py\u001b[0m in \u001b[0;36m_drop_axis\u001b[1;34m(self, labels, axis, level, errors)\u001b[0m\n\u001b[0;32m   3141\u001b[0m                 \u001b[0mnew_axis\u001b[0m \u001b[1;33m=\u001b[0m \u001b[0maxis\u001b[0m\u001b[1;33m.\u001b[0m\u001b[0mdrop\u001b[0m\u001b[1;33m(\u001b[0m\u001b[0mlabels\u001b[0m\u001b[1;33m,\u001b[0m \u001b[0mlevel\u001b[0m\u001b[1;33m=\u001b[0m\u001b[0mlevel\u001b[0m\u001b[1;33m,\u001b[0m \u001b[0merrors\u001b[0m\u001b[1;33m=\u001b[0m\u001b[0merrors\u001b[0m\u001b[1;33m)\u001b[0m\u001b[1;33m\u001b[0m\u001b[0m\n\u001b[0;32m   3142\u001b[0m             \u001b[1;32melse\u001b[0m\u001b[1;33m:\u001b[0m\u001b[1;33m\u001b[0m\u001b[0m\n\u001b[1;32m-> 3143\u001b[1;33m                 \u001b[0mnew_axis\u001b[0m \u001b[1;33m=\u001b[0m \u001b[0maxis\u001b[0m\u001b[1;33m.\u001b[0m\u001b[0mdrop\u001b[0m\u001b[1;33m(\u001b[0m\u001b[0mlabels\u001b[0m\u001b[1;33m,\u001b[0m \u001b[0merrors\u001b[0m\u001b[1;33m=\u001b[0m\u001b[0merrors\u001b[0m\u001b[1;33m)\u001b[0m\u001b[1;33m\u001b[0m\u001b[0m\n\u001b[0m\u001b[0;32m   3144\u001b[0m             \u001b[0mresult\u001b[0m \u001b[1;33m=\u001b[0m \u001b[0mself\u001b[0m\u001b[1;33m.\u001b[0m\u001b[0mreindex\u001b[0m\u001b[1;33m(\u001b[0m\u001b[1;33m**\u001b[0m\u001b[1;33m{\u001b[0m\u001b[0maxis_name\u001b[0m\u001b[1;33m:\u001b[0m \u001b[0mnew_axis\u001b[0m\u001b[1;33m}\u001b[0m\u001b[1;33m)\u001b[0m\u001b[1;33m\u001b[0m\u001b[0m\n\u001b[0;32m   3145\u001b[0m \u001b[1;33m\u001b[0m\u001b[0m\n",
      "\u001b[1;32mD:\\python_ML\\venv\\lib\\site-packages\\pandas\\core\\indexes\\base.py\u001b[0m in \u001b[0;36mdrop\u001b[1;34m(self, labels, errors)\u001b[0m\n\u001b[0;32m   4402\u001b[0m             \u001b[1;32mif\u001b[0m \u001b[0merrors\u001b[0m \u001b[1;33m!=\u001b[0m \u001b[1;34m'ignore'\u001b[0m\u001b[1;33m:\u001b[0m\u001b[1;33m\u001b[0m\u001b[0m\n\u001b[0;32m   4403\u001b[0m                 raise KeyError(\n\u001b[1;32m-> 4404\u001b[1;33m                     '{} not found in axis'.format(labels[mask]))\n\u001b[0m\u001b[0;32m   4405\u001b[0m             \u001b[0mindexer\u001b[0m \u001b[1;33m=\u001b[0m \u001b[0mindexer\u001b[0m\u001b[1;33m[\u001b[0m\u001b[1;33m~\u001b[0m\u001b[0mmask\u001b[0m\u001b[1;33m]\u001b[0m\u001b[1;33m\u001b[0m\u001b[0m\n\u001b[0;32m   4406\u001b[0m         \u001b[1;32mreturn\u001b[0m \u001b[0mself\u001b[0m\u001b[1;33m.\u001b[0m\u001b[0mdelete\u001b[0m\u001b[1;33m(\u001b[0m\u001b[0mindexer\u001b[0m\u001b[1;33m)\u001b[0m\u001b[1;33m\u001b[0m\u001b[0m\n",
      "\u001b[1;31mKeyError\u001b[0m: \"['is_spam'] not found in axis\""
     ],
     "output_type": "error"
    }
   ],
   "source": [
    "#X=np.array(df.drop(columns='is_spam'))\n",
    "Y=np.array(df.is_spam)\n",
    "header = df.columns\n",
    "headerX = df.drop(columns='is_spam').columns"
   ]
  },
  {
   "cell_type": "markdown",
   "metadata": {},
   "source": [
    "'yes', 'no' 레이블을 숫자로 변환:"
   ]
  },
  {
   "cell_type": "code",
   "execution_count": 20,
   "metadata": {},
   "outputs": [
    {
     "data": {
      "text/plain": [
       "array([0, 0, 1, 0, 0, 1, 0, 0, 0, 1, 0, 0, 0, 0, 1, 1, 0, 0, 0, 0, 0, 0,\n       1, 0, 0, 1, 0, 0, 0, 1, 0, 1, 0, 0, 0, 0, 0, 0, 0, 0, 0, 0, 0, 0,\n       0, 1, 0, 0, 1, 0, 0, 0, 0, 0, 1, 0, 1, 1, 0, 0, 0, 1, 0, 0, 0, 0,\n       0, 0, 0, 1, 0, 1, 0, 0, 0, 0, 0, 0, 0, 0, 0, 1, 1, 0, 1, 1, 1, 0,\n       0, 1, 0, 0, 0, 1, 0, 0, 0, 0, 0, 0, 0, 1, 0, 1, 0, 1, 0, 0, 0, 0,\n       1, 0, 0, 1, 1, 0, 0, 0, 0, 0, 0, 0, 1, 0, 0, 0, 0, 0, 1, 1, 1, 0,\n       0, 0, 0, 1, 0, 0, 0, 0, 0, 0, 0, 0, 1, 0, 0, 1, 1, 0, 0, 0, 0, 1,\n       0, 1, 0, 0, 1, 1, 1, 0, 1, 0, 0, 0, 0, 0, 0, 0, 1, 0, 1, 1, 0, 0,\n       0, 0, 0, 0, 0, 1, 0, 1, 0, 0, 0, 1, 0, 1, 0, 1, 0, 1, 0, 0, 0, 0,\n       0, 1, 0, 0, 1, 0, 0, 0, 0, 0, 0, 0, 0, 0, 0, 0, 0, 0, 0, 0, 0, 1,\n       0, 0, 1, 0, 0, 0, 0, 0, 0, 0, 0, 1, 0, 1, 1, 1, 0, 0, 0, 0, 1, 0,\n       0, 0, 1, 0, 1, 0, 1, 1, 0, 0, 0, 0, 0, 1, 0, 0, 0, 0, 0, 0, 1, 1,\n       0, 1, 0, 1, 0, 0, 0, 1, 0, 0, 0, 1, 1, 0, 0, 0, 0, 0, 0, 1, 0, 0,\n       0, 1, 0, 0, 0, 0, 0, 1, 0, 0, 0, 1, 0, 0, 0, 0, 1, 0, 1, 0, 0, 1,\n       0, 1, 0, 0, 0, 0, 0, 0, 1, 0, 1, 0, 0, 1, 0, 0, 0, 1, 0, 0, 1, 0,\n       0, 0, 0, 0, 1, 0, 1, 0, 0, 0, 0, 0, 1, 0, 0, 1, 0, 0, 1, 0, 0, 0,\n       1, 1, 1, 0, 1, 0, 0, 0, 0, 0, 0, 0, 0, 1, 0, 0, 0, 1, 0, 0, 1, 0,\n       0, 0, 0, 0, 0, 0, 0, 0, 0, 0, 0, 0, 0, 0, 1, 0, 0, 0, 0, 0, 0, 0,\n       0, 0, 1, 1, 0, 0, 0, 0, 0, 0, 1, 1, 0, 0, 0, 0, 0, 1, 0, 1, 0, 0,\n       0, 0, 0, 0, 0, 0, 1, 0, 1, 1, 0, 0, 1, 0, 1, 0, 0, 1, 0, 0, 0, 1,\n       1, 0, 0, 0, 0, 0, 1, 0, 0, 0, 0, 0, 0, 0, 0, 0, 1, 1, 0, 0, 0, 0,\n       0, 0, 1, 0, 0, 0, 1, 1, 0, 0, 1, 1, 1, 0, 0, 1, 0, 0, 0, 0, 0, 1,\n       1, 0, 0, 0, 1, 0, 1, 1, 0, 0, 0, 0, 0, 1, 0, 0, 0, 1, 0, 0, 1, 0,\n       1, 0, 1, 0, 0, 0, 0, 0, 1, 0, 0, 0, 1, 0, 0, 0, 0, 1, 1, 1, 1, 0,\n       0, 0, 0, 1, 0, 0, 1, 0, 0, 0, 0, 0, 0, 0, 1, 0, 0, 0, 0, 0, 0, 0,\n       0, 0, 1, 1, 0, 0, 0, 0, 0, 0, 0, 1, 0, 0, 0, 0, 1, 1, 1, 0, 0, 0,\n       0, 0, 0, 0, 0, 1, 0, 0, 0, 1, 0, 0, 1, 0, 0, 1, 0, 1, 0, 1, 1, 0,\n       0, 1, 1, 0, 0, 0, 0, 0, 0, 1, 0, 0, 0, 1, 0, 1, 1, 1, 1, 1, 0, 0,\n       0, 1, 0, 0, 0, 1, 0, 0, 0, 0, 1, 0, 0, 0, 1, 0, 1, 1, 1, 0, 0, 0,\n       1, 0, 1, 0, 0, 0, 1, 0, 0, 0, 0, 1, 0, 0, 0, 0, 0, 0, 0, 1, 0, 1,\n       1, 1, 0, 1, 0, 1, 1, 0, 0, 0, 0, 0, 0, 0, 0, 0, 0, 0, 1, 0, 0, 0,\n       0, 1, 0, 0, 0, 0, 0, 0, 1, 0, 0, 0, 1, 0, 0, 0, 0, 0, 0, 0, 0, 1,\n       0, 1, 0, 0, 0, 1, 0, 0, 1, 0, 0, 1, 0, 1, 0, 1, 0, 0, 0, 1, 1, 0,\n       0, 1, 0, 0, 0, 0, 0, 0, 0, 0, 0, 1, 0, 0, 0, 0, 0, 0, 0, 1, 0, 0,\n       0, 1, 1, 0, 0, 0, 0, 0, 0, 0, 1, 0, 0, 0, 0, 0, 0, 1, 0, 0, 0, 0,\n       0, 1, 0, 0, 0, 1, 0, 0, 0, 1, 0, 1, 0, 1, 0, 0, 1, 0, 0, 0, 0, 0,\n       0, 0, 1, 0, 0, 0, 1, 0, 0, 0, 0, 1, 0, 0, 0, 0, 0, 0, 0, 0, 0, 0,\n       0, 0, 0, 0, 0, 1, 1, 1, 0, 0, 0, 1, 0, 1, 0, 0, 1, 0, 0, 1, 1, 0,\n       0, 0, 0, 1, 0, 0, 1, 0, 0, 0, 0, 0, 1, 1, 0, 0, 0, 1, 0, 1, 0, 0,\n       1, 0, 0, 0, 1, 1, 1, 0, 0, 0, 0, 0, 1, 1, 0, 0, 1, 1, 1, 0, 1, 0,\n       0, 0, 1, 1, 0, 0, 0, 0, 0, 1, 0, 0, 0, 0, 0, 0, 0, 0, 1, 1, 1, 0,\n       0, 0, 1, 0, 0, 0, 0, 1, 0, 0, 0, 1, 0, 0, 0, 0, 0, 1, 1, 0, 0, 0,\n       0, 0, 0, 0, 0, 0, 1, 1, 0, 0, 0, 0, 1, 1, 0, 0, 0, 0, 0, 0, 1, 0,\n       1, 0, 1, 0, 0, 0, 0, 0, 1, 0, 0, 0, 0, 0, 1, 0, 0, 0, 1, 0, 1, 0,\n       0, 1, 0, 0, 0, 0, 0, 1, 0, 1, 0, 0, 0, 0, 0, 0, 1, 1, 0, 0, 0, 0,\n       1, 0, 0, 0, 0, 0, 0, 0, 0, 0], dtype=int64)"
      ]
     },
     "execution_count": 20,
     "metadata": {},
     "output_type": "execute_result"
    }
   ],
   "source": [
    "LE = preprocessing.LabelEncoder()\n",
    "Y = LE.fit_transform(Y)\n",
    "Y"
   ]
  },
  {
   "cell_type": "code",
   "execution_count": 21,
   "metadata": {},
   "outputs": [
    {
     "data": {
      "text/plain": [
       "(array([0, 1], dtype=int64), array([736, 264], dtype=int64))"
      ]
     },
     "execution_count": 21,
     "metadata": {},
     "output_type": "execute_result"
    }
   ],
   "source": [
    "table = np.unique(Y, return_counts=True)\n",
    "table"
   ]
  },
  {
   "cell_type": "markdown",
   "metadata": {},
   "source": [
    "NaN이 있으면 채워 넣음:"
   ]
  },
  {
   "cell_type": "code",
   "execution_count": 22,
   "metadata": {},
   "outputs": [],
   "source": [
    "IPT = preprocessing.Imputer()\n",
    "X = IPT.fit_transform(X)"
   ]
  },
  {
   "cell_type": "markdown",
   "metadata": {},
   "source": [
    "#### 데이터 전처리:"
   ]
  },
  {
   "cell_type": "code",
   "execution_count": 23,
   "metadata": {},
   "outputs": [],
   "source": [
    "X = preprocessing.scale(X)"
   ]
  },
  {
   "cell_type": "code",
   "execution_count": 24,
   "metadata": {},
   "outputs": [],
   "source": [
    "X_train, X_test, Y_train, Y_test = train_test_split(X, Y, test_size=0.3, random_state=3)"
   ]
  },
  {
   "cell_type": "markdown",
   "metadata": {},
   "source": [
    "#### MLP  신경망 적용 (교차검증 최적화 포함):"
   ]
  },
  {
   "cell_type": "code",
   "execution_count": 25,
   "metadata": {},
   "outputs": [],
   "source": [
    "hidden_layer_config = [30, 30, 30]\n",
    "alpha_grid = [0.01, 0.1, 0.2, 0.5, 1.0, 2.0]\n",
    "parameters = {'alpha': alpha_grid}"
   ]
  },
  {
   "cell_type": "code",
   "execution_count": 26,
   "metadata": {},
   "outputs": [],
   "source": [
    "MLP = MLPClassifier(solver='lbfgs',hidden_layer_sizes=hidden_layer_config)\n",
    "gridCV = GridSearchCV(MLP, parameters, cv=10)\n",
    "gridCV.fit(X_train, Y_train)\n",
    "best_alpha = gridCV.best_params_['alpha']"
   ]
  },
  {
   "cell_type": "code",
   "execution_count": 13,
   "metadata": {},
   "outputs": [
    {
     "name": "stdout",
     "output_type": "stream",
     "text": [
      "MLP best alpha : 1.0\n"
     ]
    }
   ],
   "source": [
    "print(\"MLP best alpha : \" + str(best_alpha))"
   ]
  },
  {
   "cell_type": "code",
   "execution_count": 14,
   "metadata": {},
   "outputs": [
    {
     "name": "stdout",
     "output_type": "stream",
     "text": [
      "MLP best accuracy : 0.917\n"
     ]
    }
   ],
   "source": [
    "MLP_best = MLPClassifier(solver='lbfgs',alpha=best_alpha,hidden_layer_sizes=hidden_layer_config)\n",
    "MLP_best.fit(X_train, Y_train);\n",
    "Y_pred = MLP_best.predict(X_test)\n",
    "print( \"MLP best accuracy : \" + str(np.round(metrics.accuracy_score(Y_test,Y_pred),3)))"
   ]
  },
  {
   "cell_type": "code",
   "execution_count": null,
   "metadata": {},
   "outputs": [],
   "source": []
  }
 ],
 "metadata": {
  "kernelspec": {
   "display_name": "Python 3",
   "language": "python",
   "name": "python3"
  },
  "language_info": {
   "codemirror_mode": {
    "name": "ipython",
    "version": 3
   },
   "file_extension": ".py",
   "mimetype": "text/x-python",
   "name": "python",
   "nbconvert_exporter": "python",
   "pygments_lexer": "ipython3",
   "version": "3.6.5"
  }
 },
 "nbformat": 4,
 "nbformat_minor": 2
}
