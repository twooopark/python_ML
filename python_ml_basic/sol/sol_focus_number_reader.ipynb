{
 "cells": [
  {
   "cell_type": "markdown",
   "metadata": {},
   "source": [
    "### MNIST 손글씨 인식"
   ]
  },
  {
   "cell_type": "markdown",
   "metadata": {},
   "source": [
    "포커스 프로젝트에 온것을 환영합니다^^ <br>\n",
    "여기에서는 손글씨(숫자)를 인식하는 스크립트를 작성해 봅니다. <br>"
   ]
  },
  {
   "cell_type": "markdown",
   "metadata": {},
   "source": [
    "#### 학습목표\n",
    "- 적당한 머신러닝 방법을 적용해 본다.\n",
    "- 이미지 rotate 방법을 사용하여 학습 데이터를 추가적으로 확보한다."
   ]
  },
  {
   "cell_type": "markdown",
   "metadata": {},
   "source": [
    "#### 필요한 패키지를 읽어 옵니다"
   ]
  },
  {
   "cell_type": "code",
   "execution_count": 1,
   "metadata": {},
   "outputs": [],
   "source": [
    "import numpy as np\n",
    "import pandas as pd\n",
    "import os\n",
    "import matplotlib.pyplot as plt\n",
    "from sklearn.model_selection import GridSearchCV\n",
    "from sklearn.ensemble import RandomForestClassifier\n",
    "from sklearn import metrics, preprocessing\n",
    "from scipy.ndimage.interpolation import rotate\n",
    "%matplotlib inline"
   ]
  },
  {
   "cell_type": "markdown",
   "metadata": {},
   "source": [
    "#### 트레이닝/테스팅 데이터 읽어오기"
   ]
  },
  {
   "cell_type": "code",
   "execution_count": 2,
   "metadata": {},
   "outputs": [],
   "source": [
    "os.chdir(r\"C:\\Users\\bit\\Desktop\\20180717_머신러닝 알고리즘과 응용\\data\")\n",
    "data_train = pd.read_csv('data_mnist_train_100.csv', header=None,encoding='latin1')\n",
    "data_test = pd.read_csv('data_mnist_test_100.csv', header=None,encoding='latin1')\n",
    "X_train = np.array((data_train.iloc[:,1:]/255.0)*0.99+0.01)\n",
    "X_test = np.array((data_test.iloc[:,1:]/255.0)*0.99+0.01)\n",
    "Y_train = np.array(data_train.iloc[:,0])\n",
    "Y_test = np.array(data_test.iloc[:,0])"
   ]
  },
  {
   "cell_type": "markdown",
   "metadata": {},
   "source": [
    "#### 데이터의 시각화 함수"
   ]
  },
  {
   "cell_type": "code",
   "execution_count": 3,
   "metadata": {},
   "outputs": [],
   "source": [
    "def show_data(X, Y, n, angle=0):\n",
    "    image_matrix = X[n,:].reshape((28,28))\n",
    "    image_matrix = rotate(image_matrix, angle, cval=0.01, reshape=False)\n",
    "    imax = image_matrix.max()\n",
    "    imin = image_matrix.min()\n",
    "    image_matrix = ((image_matrix-imin)/(imax-imin))*0.99+0.01\n",
    "    plt.imshow(image_matrix, cmap='Greys',interpolation='None')\n",
    "    print(Y[n])"
   ]
  },
  {
   "cell_type": "code",
   "execution_count": 14,
   "metadata": {},
   "outputs": [
    {
     "name": "stdout",
     "output_type": "stream",
     "text": [
      "1\n"
     ]
    },
    {
     "data": {
      "image/png": "[encoded data removed]",
      "text/plain": [
       "<Figure size 432x288 with 1 Axes>"
      ]
     },
     "metadata": {},
     "output_type": "display_data"
    }
   ],
   "source": [
    "show_data(X_train,Y_train,99,-10)"
   ]
  },
  {
   "cell_type": "markdown",
   "metadata": {},
   "source": [
    "#### Random Forest 적용 (교차검증 최적화 포함)"
   ]
  },
  {
   "cell_type": "code",
   "execution_count": 15,
   "metadata": {},
   "outputs": [
    {
     "name": "stderr",
     "output_type": "stream",
     "text": [
      "C:\\Users\\bit\\Anaconda3\\lib\\site-packages\\sklearn\\model_selection\\_split.py:605: Warning: The least populated class in y has only 5 members, which is too few. The minimum number of members in any class cannot be less than n_splits=10.\n",
      "  % (min_groups, self.n_splits)), Warning)\n"
     ]
    }
   ],
   "source": [
    "estimator_grid = np.arange(20, 51, 10)\n",
    "depth_grid = np.arange(10, 31, 2)\n",
    "parameters = {'n_estimators': estimator_grid, 'max_depth': depth_grid}\n",
    "gridCV = GridSearchCV(RandomForestClassifier(), param_grid=parameters, cv=10)\n",
    "gridCV.fit(X_train, Y_train)\n",
    "best_n_estim = gridCV.best_params_['n_estimators']\n",
    "best_depth = gridCV.best_params_['max_depth']"
   ]
  },
  {
   "cell_type": "code",
   "execution_count": 16,
   "metadata": {},
   "outputs": [
    {
     "name": "stdout",
     "output_type": "stream",
     "text": [
      "Random Forest best n estimator : 40\n",
      "Random Forest best depth : 12\n"
     ]
    }
   ],
   "source": [
    "print(\"Random Forest best n estimator : \" + str(best_n_estim))\n",
    "print(\"Random Forest best depth : \" + str(best_depth))"
   ]
  },
  {
   "cell_type": "code",
   "execution_count": 17,
   "metadata": {},
   "outputs": [
    {
     "name": "stdout",
     "output_type": "stream",
     "text": [
      "Random Forest best accuracy : 0.67\n"
     ]
    }
   ],
   "source": [
    "RF_best = RandomForestClassifier(max_depth=best_depth,n_estimators=best_n_estim,random_state=3)\n",
    "RF_best.fit(X_train, Y_train);\n",
    "Y_pred = RF_best.predict(X_test)\n",
    "print( \"Random Forest best accuracy : \" + str(np.round(metrics.accuracy_score(Y_test,Y_pred),3)))"
   ]
  },
  {
   "cell_type": "markdown",
   "metadata": {},
   "source": [
    "#### 이미지 하나 rotate 해주는 함수 정의"
   ]
  },
  {
   "cell_type": "code",
   "execution_count": 18,
   "metadata": {},
   "outputs": [],
   "source": [
    "def rotate_data(X, angle=0):\n",
    "    image_matrix = X.reshape((28,28))\n",
    "    image_matrix = rotate(image_matrix, angle, cval=0.01, reshape=False)\n",
    "    imax = image_matrix.max()\n",
    "    imin = image_matrix.min()\n",
    "    image_matrix = ((image_matrix-imin)/(imax-imin))*0.99+0.01\n",
    "    return image_matrix.reshape((1,-1))"
   ]
  },
  {
   "cell_type": "markdown",
   "metadata": {},
   "source": [
    "#### 학습 데이터를 rotation 방법으로 불려줌."
   ]
  },
  {
   "cell_type": "code",
   "execution_count": 19,
   "metadata": {},
   "outputs": [],
   "source": [
    "N_rows = X_train.shape[0]\n",
    "N_cols = X_train.shape[1]\n",
    "X_train_ext = np.empty((0,N_cols))\n",
    "Y_train_ext = np.array([])\n",
    "for angle in [-10,-5,0,5,10]:\n",
    "    for n in range(N_rows):\n",
    "        a_row = X_train[n,:]\n",
    "        a_y = Y_train[n]\n",
    "        X_train_ext = np.concatenate((X_train_ext,rotate_data(a_row,angle)),axis=0)\n",
    "        Y_train_ext = np.append(Y_train_ext, a_y)"
   ]
  },
  {
   "cell_type": "markdown",
   "metadata": {},
   "source": [
    "#### 최종적으로 학습하고 예측함."
   ]
  },
  {
   "cell_type": "code",
   "execution_count": 20,
   "metadata": {},
   "outputs": [
    {
     "name": "stdout",
     "output_type": "stream",
     "text": [
      "Random Forest best accuracy : 0.74\n"
     ]
    }
   ],
   "source": [
    "RF_best = RandomForestClassifier(max_depth=best_depth,n_estimators=best_n_estim,random_state=3)\n",
    "RF_best.fit(X_train_ext, Y_train_ext);\n",
    "Y_pred = RF_best.predict(X_test)\n",
    "print( \"Random Forest best accuracy : \" + str(np.round(metrics.accuracy_score(Y_test,Y_pred),3)))"
   ]
  },
  {
   "cell_type": "code",
   "execution_count": null,
   "metadata": {},
   "outputs": [],
   "source": []
  }
 ],
 "metadata": {
  "kernelspec": {
   "display_name": "Python 3",
   "language": "python",
   "name": "python3"
  },
  "language_info": {
   "codemirror_mode": {
    "name": "ipython",
    "version": 3
   },
   "file_extension": ".py",
   "mimetype": "text/x-python",
   "name": "python",
   "nbconvert_exporter": "python",
   "pygments_lexer": "ipython3",
   "version": "3.6.5"
  }
 },
 "nbformat": 4,
 "nbformat_minor": 2
}
