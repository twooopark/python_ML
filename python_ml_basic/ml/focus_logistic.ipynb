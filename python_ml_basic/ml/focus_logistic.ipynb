{
 "cells": [
  {
   "cell_type": "markdown",
   "metadata": {},
   "source": [
    "### 로지스틱 회귀 기본형 제작"
   ]
  },
  {
   "cell_type": "markdown",
   "metadata": {},
   "source": [
    "로지스틱 회귀 포커스 프로젝트에 온것을 환영합니다^^ <br>\n",
    "여기에서는 기본형 로지스틱 회귀를 직접 코딩하게 됩니다. <br>\n",
    "*루프함수 (for/while)은 될수 있으면 사용하지 마세요.*"
   ]
  },
  {
   "cell_type": "markdown",
   "metadata": {},
   "source": [
    "#### 학습목표\n",
    "- 로지스틱 회귀 클래스 프로그래밍.\n",
    "- 시그모이드 함수와 그래디언트 계산.\n",
    "- 그래디언트 디센트를 적용한 트레이닝."
   ]
  },
  {
   "cell_type": "markdown",
   "metadata": {},
   "source": [
    "#### 필요한 패키지를 읽어 옵니다"
   ]
  },
  {
   "cell_type": "code",
   "execution_count": null,
   "metadata": {},
   "outputs": [],
   "source": [
    "import numpy as np\n",
    "import pandas as pd\n",
    "import matplotlib.pyplot as plt\n",
    "from sklearn.model_selection import train_test_split\n",
    "import os\n",
    "%matplotlib inline"
   ]
  },
  {
   "cell_type": "markdown",
   "metadata": {},
   "source": [
    "#### 트레이닝/테스팅 데이터 읽어오기"
   ]
  },
  {
   "cell_type": "code",
   "execution_count": null,
   "metadata": {},
   "outputs": [],
   "source": [
    "os.chdir(r\"C:\\Users\\sycha_000\\Documents\\교육사업\\데이터 2018\\비트교육센터\\20180717_머신러닝 알고리즘과 응용\\data\")\n",
    "df = pd.read_csv('data_customer.csv', header='infer',encoding='latin1')\n",
    "X = np.array(df.drop(columns='PREGNANT'))\n",
    "Y = np.array(df.loc[:,'PREGNANT'])\n",
    "X_train, X_test, Y_train, Y_test = train_test_split(X, Y, test_size=0.3, random_state=3)"
   ]
  },
  {
   "cell_type": "markdown",
   "metadata": {},
   "source": [
    "#### 시그모이드 함수와 그래디언트"
   ]
  },
  {
   "cell_type": "code",
   "execution_count": null,
   "metadata": {},
   "outputs": [],
   "source": [
    "def sigmoid(x):\n",
    "    # 시그모이드 함수를 코딩 하시오.\n",
    "    return s\n",
    "\n",
    "def gradient(X, Y, beta):\n",
    "    # 그래디언트 함수를 코딩 하시오.\n",
    "    return ds.sum(axis=0)"
   ]
  },
  {
   "cell_type": "markdown",
   "metadata": {},
   "source": [
    "#### Logistic Regression 클래스 정의"
   ]
  },
  {
   "cell_type": "code",
   "execution_count": null,
   "metadata": {},
   "outputs": [],
   "source": [
    "class logisticRegression:\n",
    "    def __init__(self,n_features,learn_rate):\n",
    "        self.rate = learn_rate\n",
    "        self.inodes = n_features + 1\n",
    "        self.beta = np.random.normal(0.0,1.0,(1,self.inodes))\n",
    "        \n",
    "    def train(self, input_X, input_Y, n_epochs):\n",
    "        # 드래디언트 디센트 방법으로 beta의 해를 찾아 보시오.  \n",
    "        return self.beta\n",
    "    \n",
    "    def query(self, input_X, prob=True, thresh=0.5):\n",
    "        # 예측 결과를 확률 또는 유형 (0 or 1)로 보여주는 함수를 코딩 하시오."
   ]
  },
  {
   "cell_type": "markdown",
   "metadata": {},
   "source": [
    "#### 다음 코드를 실행하면 오류없이 학습하여 예측결과를 보여주어야 함."
   ]
  },
  {
   "cell_type": "code",
   "execution_count": null,
   "metadata": {},
   "outputs": [],
   "source": [
    "LR = logisticRegression(X_train.shape[1],0.01)\n",
    "LR.train(X_train, Y_train,2000)\n",
    "Y_forecast = LR.query(X_test,prob=False,thresh=0.5)\n",
    "(Y_forecast == Y_test.reshape(-1,1)).mean()"
   ]
  },
  {
   "cell_type": "code",
   "execution_count": null,
   "metadata": {},
   "outputs": [],
   "source": []
  }
 ],
 "metadata": {
  "kernelspec": {
   "display_name": "Python 3",
   "language": "python",
   "name": "python3"
  },
  "language_info": {
   "codemirror_mode": {
    "name": "ipython",
    "version": 3
   },
   "file_extension": ".py",
   "mimetype": "text/x-python",
   "name": "python",
   "nbconvert_exporter": "python",
   "pygments_lexer": "ipython3",
   "version": "3.6.5"
  }
 },
 "nbformat": 4,
 "nbformat_minor": 2
}
