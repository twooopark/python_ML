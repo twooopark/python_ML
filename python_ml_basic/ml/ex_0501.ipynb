{
 "cells": [
  {
   "cell_type": "markdown",
   "metadata": {},
   "source": [
    "## K-means 군집화\n",
    "#### 필요한 패키지를 불러온다:"
   ]
  },
  {
   "cell_type": "code",
   "execution_count": 1,
   "metadata": {},
   "outputs": [],
   "source": [
    "%matplotlib inline\n",
    "import numpy as np\n",
    "import pandas as pd\n",
    "import matplotlib.pyplot as plt\n",
    "import os\n",
    "from sklearn.cluster import KMeans\n",
    "#from scipy.stats import itemfreq"
   ]
  },
  {
   "cell_type": "markdown",
   "metadata": {},
   "source": [
    "#### 데이터를 불러온다:"
   ]
  },
  {
   "cell_type": "code",
   "execution_count": 2,
   "metadata": {},
   "outputs": [],
   "source": [
    "os.chdir(r\"D:\\python_ML\\python_ml_basic\\data\")"
   ]
  },
  {
   "cell_type": "code",
   "execution_count": 3,
   "metadata": {},
   "outputs": [],
   "source": [
    "# df = pd.read_csv('data_KOSPI200_en.csv', header='infer',encoding='ISO-8859-1')\n",
    "df = pd.read_csv('data_KOSPI200_en.csv', header='infer',encoding='latin1')"
   ]
  },
  {
   "cell_type": "code",
   "execution_count": 4,
   "metadata": {},
   "outputs": [
    {
     "data": {
      "text/plain": [
       "(198, 6)"
      ]
     },
     "execution_count": 4,
     "metadata": {},
     "output_type": "execute_result"
    }
   ],
   "source": [
    "df.shape"
   ]
  },
  {
   "cell_type": "code",
   "execution_count": 7,
   "metadata": {},
   "outputs": [
    {
     "data": {
      "text/html": [
       "<div>\n",
       "<style scoped>\n",
       "    .dataframe tbody tr th:only-of-type {\n",
       "        vertical-align: middle;\n",
       "    }\n",
       "\n",
       "    .dataframe tbody tr th {\n",
       "        vertical-align: top;\n",
       "    }\n",
       "\n",
       "    .dataframe thead th {\n",
       "        text-align: right;\n",
       "    }\n",
       "</style>\n",
       "<table border=\"1\" class=\"dataframe\">\n",
       "  <thead>\n",
       "    <tr style=\"text-align: right;\">\n",
       "      <th></th>\n",
       "      <th>CODE</th>\n",
       "      <th>COMPANY</th>\n",
       "      <th>PRICE</th>\n",
       "      <th>RETURN</th>\n",
       "      <th>RISK</th>\n",
       "      <th>BETA</th>\n",
       "    </tr>\n",
       "  </thead>\n",
       "  <tbody>\n",
       "    <tr>\n",
       "      <th>0</th>\n",
       "      <td>138930</td>\n",
       "      <td>BNK-FINANCE</td>\n",
       "      <td>14450.0</td>\n",
       "      <td>-0.11</td>\n",
       "      <td>0.34</td>\n",
       "      <td>-0.14</td>\n",
       "    </tr>\n",
       "    <tr>\n",
       "      <th>1</th>\n",
       "      <td>1040</td>\n",
       "      <td>CJ</td>\n",
       "      <td>261000.0</td>\n",
       "      <td>0.50</td>\n",
       "      <td>0.49</td>\n",
       "      <td>1.07</td>\n",
       "    </tr>\n",
       "    <tr>\n",
       "      <th>2</th>\n",
       "      <td>120</td>\n",
       "      <td>CJ Daehan</td>\n",
       "      <td>200000.0</td>\n",
       "      <td>0.03</td>\n",
       "      <td>0.39</td>\n",
       "      <td>0.55</td>\n",
       "    </tr>\n",
       "    <tr>\n",
       "      <th>3</th>\n",
       "      <td>97950</td>\n",
       "      <td>CJ Cheil</td>\n",
       "      <td>371000.0</td>\n",
       "      <td>-0.02</td>\n",
       "      <td>0.34</td>\n",
       "      <td>0.71</td>\n",
       "    </tr>\n",
       "    <tr>\n",
       "      <th>4</th>\n",
       "      <td>114090</td>\n",
       "      <td>GKL</td>\n",
       "      <td>33150.0</td>\n",
       "      <td>-0.06</td>\n",
       "      <td>0.43</td>\n",
       "      <td>0.65</td>\n",
       "    </tr>\n",
       "  </tbody>\n",
       "</table>\n",
       "</div>"
      ],
      "text/plain": [
       "<div>\n",
       "<style scoped>\n",
       "    .dataframe tbody tr th:only-of-type {\n",
       "        vertical-align: middle;\n",
       "    }\n",
       "\n",
       "    .dataframe tbody tr th {\n",
       "        vertical-align: top;\n",
       "    }\n",
       "\n",
       "    .dataframe thead th {\n",
       "        text-align: right;\n",
       "    }\n",
       "</style>\n",
       "<table border=\"1\" class=\"dataframe\">\n",
       "  <thead>\n",
       "    <tr style=\"text-align: right;\">\n",
       "      <th></th>\n",
       "      <th>CODE</th>\n",
       "      <th>COMPANY</th>\n",
       "      <th>PRICE</th>\n",
       "      <th>RETURN</th>\n",
       "      <th>RISK</th>\n",
       "      <th>BETA</th>\n",
       "    </tr>\n",
       "  </thead>\n",
       "  <tbody>\n",
       "    <tr>\n",
       "      <th>0</th>\n",
       "      <td>138930</td>\n",
       "      <td>BNK-FINANCE</td>\n",
       "      <td>14450.0</td>\n",
       "      <td>-0.11</td>\n",
       "      <td>0.34</td>\n",
       "      <td>-0.14</td>\n",
       "    </tr>\n",
       "    <tr>\n",
       "      <th>1</th>\n",
       "      <td>1040</td>\n",
       "      <td>CJ</td>\n",
       "      <td>261000.0</td>\n",
       "      <td>0.50</td>\n",
       "      <td>0.49</td>\n",
       "      <td>1.07</td>\n",
       "    </tr>\n",
       "    <tr>\n",
       "      <th>2</th>\n",
       "      <td>120</td>\n",
       "      <td>CJ Daehan</td>\n",
       "      <td>200000.0</td>\n",
       "      <td>0.03</td>\n",
       "      <td>0.39</td>\n",
       "      <td>0.55</td>\n",
       "    </tr>\n",
       "    <tr>\n",
       "      <th>3</th>\n",
       "      <td>97950</td>\n",
       "      <td>CJ Cheil</td>\n",
       "      <td>371000.0</td>\n",
       "      <td>-0.02</td>\n",
       "      <td>0.34</td>\n",
       "      <td>0.71</td>\n",
       "    </tr>\n",
       "    <tr>\n",
       "      <th>4</th>\n",
       "      <td>114090</td>\n",
       "      <td>GKL</td>\n",
       "      <td>33150.0</td>\n",
       "      <td>-0.06</td>\n",
       "      <td>0.43</td>\n",
       "      <td>0.65</td>\n",
       "    </tr>\n",
       "  </tbody>\n",
       "</table>\n",
       "</div>"
      ]
     },
     "execution_count": 7,
     "metadata": {},
     "output_type": "execute_result"
    }
   ],
   "source": [
    "df.head(5)\n",
    "# 한글이 안되서 영어로 일일이 바꾸셨다함..ㅎㅎ;;;;"
   ]
  },
  {
   "cell_type": "code",
   "execution_count": 8,
   "metadata": {},
   "outputs": [],
   "source": [
    "header = df.columns"
   ]
  },
  {
   "cell_type": "markdown",
   "metadata": {},
   "source": [
    "#### Kmeans 수익률과 리스크 기준으로 2개의 클러스터:"
   ]
  },
  {
   "cell_type": "code",
   "execution_count": 14,
   "metadata": {},
   "outputs": [],
   "source": [
    "X=np.array(df.iloc[:,[3,4]]) # [수익률 리스크]\n",
    "# print(X)\n",
    "companies = np.array(df.iloc[:,1])\n",
    "# print(companies)"
   ]
  },
  {
   "cell_type": "code",
   "execution_count": 22,
   "metadata": {},
   "outputs": [
    {
     "name": "stdout",
     "output_type": "stream",
     "text": [
      "Cluster Sizes :\n(array([0, 1]), array([ 63, 135], dtype=int64))\nCluster centers :\n[[ 0.62079365  0.53380952]\n [-0.03251852  0.40481481]]\n"
     ]
    }
   ],
   "source": [
    "kmeans = KMeans(n_clusters=2) # 목표 클러스터 2개\n",
    "clusters = kmeans.fit(X).labels_ # 학습데이터와 시험데이터의 구분이 없다.(=X와  Y의 구분이 없다.) : 비지도학습\n",
    "centers = kmeans.cluster_centers_\n",
    "table = np.unique(clusters,return_counts=True)\n",
    "print('Cluster Sizes :')\n",
    "print(table)\n",
    "print('Cluster centers :')\n",
    "print(centers) \n",
    "# [[c1.수익률 c1.리스크]\n",
    "#  [c2.수익률 c2.리스크]]"
   ]
  },
  {
   "cell_type": "code",
   "execution_count": 23,
   "metadata": {},
   "outputs": [
    {
     "name": "stdout",
     "output_type": "stream",
     "text": [
      "Companies in group 0 :\n-----------------------------------\n['CJ' 'GS Retail' 'LG Corp' 'LG Life' 'LG Health' 'LG Chem' 'S&T Motiv'\n 'S&T Heavy' 'SBS' 'SKC' 'SK Innovation' 'S-Oil' 'GookDo Chem'\n 'Green Cross' 'NongShim' 'Daewoong Medical' 'Daehan' 'DongAh ST'\n 'DongWon F&B' 'DongWon Systems' 'Lotte Chemical' 'Lotte food' 'Moohak'\n 'Boogwang Medical' 'Samgwang Glass' 'Samlip Food' 'Samsung Trade'\n 'Samsung Electric' 'Samsung Precisions' 'SamYang' 'SamYang Holdings'\n 'SSangYong' 'ISS DongSuh' 'S1' 'Able C&C' 'NC Soft' 'YoungJin' 'Ottoogi'\n 'Orion' 'Unid' 'Yuhan' 'Ildong Medical' 'IlYnag MEdical' 'KosMAx' 'Crown'\n 'Korea Danja' 'Korea Steel' 'Korea Colma' 'Korea Aero' 'Hanmi Medical'\n 'HanSaem' 'Hanse' 'Hansol Chemical' 'Hansol Technics' 'Hanhwa'\n 'Hanhwa Chemical' 'Hanhwa Techwin' 'Hyundai Green Food' 'Hyundai Livart'\n 'Hyundai Industries' 'Hyundai Elevator' 'Hyosung' 'Foosung']\n\n\nCompanies in group 1 :\n-----------------------------------\n['BNK-FINANCE' 'CJ Daehan' 'CJ Cheil' 'GKL' 'GS' 'KB Finance' 'KCC' 'KT'\n 'KT&G' 'LF Mall' 'LG' 'LG Display' 'LG UPlus' 'LG Innotech'\n 'LG Electronics' 'LG Housys' 'LS' 'LS Indus' 'NHN' 'NH Finance' 'OCI'\n 'POSCO' 'SK C&C' 'SK Network' 'SK Chemical' 'SK Telecom' 'SK Hynix'\n 'Kangwon Land' 'KyungBang' 'Korea Zinc' 'Korea Iron' 'GwangDong'\n 'Kumho Oil' 'KumHo Tire' 'Kia Motors' 'Company Bank' 'NamYang'\n 'NamHae Chem' 'Nexxen Tire' 'DaeGyo' 'DaeDuck' 'DaeLim' 'DaeSang'\n 'Daewoo Const' 'Daewoo International' 'DSME' 'Daewoo Finance' 'KAL'\n 'DongKook' 'DongBu Insurance' 'DongAh Socio' 'DongAh Tire' 'Doosan'\n 'Doosan Engine' 'Doosan Infracore' 'Doosan Heavy' 'Lock and Lock'\n 'Lotte Shoping' 'Lotte Pastry' 'Lotte Chilsung' 'Motonik' 'Moorim P&P'\n 'Marae Asset' 'Basic House' 'Bingre' 'Samsung SDI' 'Samsung Life'\n 'Samsung SDS' 'Samsung Engineering' 'Samsung Electronics' 'Samsung Heavy'\n 'Samsung Finance' 'Samsung Card' 'Samsung Insurance' 'SeoYeon' 'SeoHung'\n 'SeBang' 'Seah Bestil' 'Seah Iron' 'Sejong' 'Shindo-Ricoh' 'Shinsegae'\n 'Shinhan Jiju' 'SSangYong Car' 'ISL' 'YoungWon' 'YoungPoong' 'Woori'\n 'EMart' 'Ilshin' 'Iljin Materials' 'Jeil Planification' 'JoGwang Leather'\n 'Chosun' 'ChongGeunDang' 'KoLon' 'Koway' 'TaeGwang' 'Pamsco' 'PoongSan'\n 'Hana Finance' 'Hite Jinro' 'Hite Jinro Holdings' 'Korea Gas'\n 'Korea Fianance' 'Korea Shell' 'Kepco' 'Korea Tire' 'Korea Tire WW'\n 'Hanla' 'Hanmi Semiconductors' 'HanSeom' 'Hansol Holdings' 'Hanon System'\n 'Hanil Cement' 'KPS' 'KEPCO Tech' 'Hanjin heavy' 'Hanhwa Life'\n 'Hyundai Construction' 'Hyundai Globis' 'Hyundai Rotem' 'Hyundai Mobis'\n 'Hyundai Mipo' 'Hyundal Mall' 'Hyundai Shipping' 'Hyundai Wia'\n 'Hyundai Steel' 'Hyundai Heavy' 'Hyundai Finance' 'Hyundai Motors'\n 'Hotel Silla' 'Hwashin' 'Hubis' 'HuChems']\n\n\n"
     ]
    }
   ],
   "source": [
    "for i in range(2):\n",
    "    print(\"Companies in group {} :\".format(i))\n",
    "    print(\"-----------------------------------\")\n",
    "    print(companies[clusters==i])\n",
    "    print (\"\\n\")"
   ]
  },
  {
   "cell_type": "markdown",
   "metadata": {},
   "source": [
    "#### Kmeans 수익률과 리스크 기준으로 3개의 클러스터:"
   ]
  },
  {
   "cell_type": "code",
   "execution_count": 24,
   "metadata": {},
   "outputs": [
    {
     "name": "stdout",
     "output_type": "stream",
     "text": [
      "Cluster Sizes :\n(array([0, 1, 2]), array([26, 99, 73], dtype=int64))\nCluster centers :\n[[ 0.88884615  0.59807692]\n [ 0.26212121  0.43414141]\n [-0.19643836  0.40753425]]\n"
     ]
    }
   ],
   "source": [
    "kmeans = KMeans(n_clusters=3)\n",
    "clusters = kmeans.fit(X).labels_\n",
    "centers = kmeans.cluster_centers_\n",
    "table = np.unique(clusters,return_counts=True)\n",
    "print('Cluster Sizes :')\n",
    "print(table)\n",
    "print('Cluster centers :')\n",
    "print(centers)"
   ]
  },
  {
   "cell_type": "code",
   "execution_count": 25,
   "metadata": {},
   "outputs": [
    {
     "name": "stdout",
     "output_type": "stream",
     "text": [
      "Companies in group 0 :\n-----------------------------------\n['GS Retail' 'LG Life' 'S-Oil' 'Daehan' 'DongWon Systems' 'Lotte Chemical'\n 'Samlip Food' 'SamYang' 'SamYang Holdings' 'SSangYong' 'YoungJin'\n 'Ottoogi' 'Ildong Medical' 'IlYnag MEdical' 'KosMAx' 'Crown'\n 'Korea Danja' 'Korea Colma' 'Korea Aero' 'Hanmi Medical' 'HanSaem'\n 'Hansol Chemical' 'Hansol Technics' 'Hanhwa Chemical' 'Hyosung' 'Foosung']\n\n\nCompanies in group 1 :\n-----------------------------------\n['CJ' 'GS' 'KT&G' 'LG' 'LG Corp' 'LG Health' 'LG UPlus' 'LG Innotech'\n 'LG Housys' 'LG Chem' 'OCI' 'S&T Motiv' 'S&T Heavy' 'SBS' 'SK C&C' 'SKC'\n 'SK Innovation' 'SK Chemical' 'Kangwon Land' 'KyungBang' 'Korea Zinc'\n 'Korea Iron' 'GwangDong' 'GookDo Chem' 'Kia Motors' 'NamYang'\n 'NamHae Chem' 'Nexxen Tire' 'Green Cross' 'NongShim' 'DaeGyo' 'DaeLim'\n 'Daewoo Const' 'Daewoo Finance' 'Daewoong Medical' 'DongKook'\n 'DongBu Insurance' 'DongAh Socio' 'DongAh ST' 'DongAh Tire' 'DongWon F&B'\n 'Doosan' 'Lock and Lock' 'Lotte Pastry' 'Lotte Chilsung' 'Lotte food'\n 'Motonik' 'Moorim P&P' 'Moohak' 'Boogwang Medical' 'Samgwang Glass'\n 'Samsung Trade' 'Samsung Life' 'Samsung SDS' 'Samsung Electric'\n 'Samsung Electronics' 'Samsung Precisions' 'Samsung Finance'\n 'Samsung Insurance' 'SeBang' 'Seah Bestil' 'Shinsegae' 'SSangYong Car'\n 'ISS DongSuh' 'S1' 'Able C&C' 'NC Soft' 'YoungPoong' 'Orion' 'Unid'\n 'Yuhan' 'EMart' 'Ilshin' 'Iljin Materials' 'Jeil Planification'\n 'ChongGeunDang' 'KoLon' 'Koway' 'Pamsco' 'PoongSan' 'Hite Jinro Holdings'\n 'Korea Fianance' 'Korea Shell' 'Kepco' 'Korea Steel' 'HanSeom' 'Hanse'\n 'KPS' 'Hanjin heavy' 'Hanhwa' 'Hanhwa Life' 'Hanhwa Techwin'\n 'Hyundai Green Food' 'Hyundai Livart' 'Hyundai Industries'\n 'Hyundai Elevator' 'Hyundai Heavy' 'Hyundai Finance' 'Hotel Silla']\n\n\nCompanies in group 2 :\n-----------------------------------\n['BNK-FINANCE' 'CJ Daehan' 'CJ Cheil' 'GKL' 'KB Finance' 'KCC' 'KT'\n 'LF Mall' 'LG Display' 'LG Electronics' 'LS' 'LS Indus' 'NHN'\n 'NH Finance' 'POSCO' 'SK Network' 'SK Telecom' 'SK Hynix' 'Kumho Oil'\n 'KumHo Tire' 'Company Bank' 'DaeDuck' 'DaeSang' 'Daewoo International'\n 'DSME' 'KAL' 'Doosan Engine' 'Doosan Infracore' 'Doosan Heavy'\n 'Lotte Shoping' 'Marae Asset' 'Basic House' 'Bingre' 'Samsung SDI'\n 'Samsung Engineering' 'Samsung Heavy' 'Samsung Card' 'SeoYeon' 'SeoHung'\n 'Seah Iron' 'Sejong' 'Shindo-Ricoh' 'Shinhan Jiju' 'ISL' 'YoungWon'\n 'Woori' 'JoGwang Leather' 'Chosun' 'TaeGwang' 'Hana Finance' 'Hite Jinro'\n 'Korea Gas' 'Korea Tire' 'Korea Tire WW' 'Hanla' 'Hanmi Semiconductors'\n 'Hansol Holdings' 'Hanon System' 'Hanil Cement' 'KEPCO Tech'\n 'Hyundai Construction' 'Hyundai Globis' 'Hyundai Rotem' 'Hyundai Mobis'\n 'Hyundai Mipo' 'Hyundal Mall' 'Hyundai Shipping' 'Hyundai Wia'\n 'Hyundai Steel' 'Hyundai Motors' 'Hwashin' 'Hubis' 'HuChems']\n\n\n"
     ]
    }
   ],
   "source": [
    "for i in range(3):\n",
    "    print(\"Companies in group {} :\".format(i))\n",
    "    print(\"-----------------------------------\")\n",
    "    print(companies[clusters==i])\n",
    "    print (\"\\n\")"
   ]
  },
  {
   "cell_type": "markdown",
   "metadata": {},
   "source": [
    "#### Kmeans 최근종가,수익률, 리스크, 베타 기준으로 3개의 클러스터:"
   ]
  },
  {
   "cell_type": "code",
   "execution_count": 26,
   "metadata": {},
   "outputs": [],
   "source": [
    "X=np.array(df.iloc[:,[2,3,4,5]])"
   ]
  },
  {
   "cell_type": "code",
   "execution_count": 32,
   "metadata": {},
   "outputs": [
    {
     "name": "stdout",
     "output_type": "stream",
     "text": [
      "Cluster Sizes :\n(array([0, 1, 2]), array([186,  10,   2], dtype=int64))\nCluster centers :\n[[8.60467495e+04 1.64784946e-01 4.48279570e-01 9.98225806e-01]\n [9.78400000e+05 3.69000000e-01 4.14000000e-01 8.69000000e-01]\n [2.14150000e+06 1.90000000e-01 3.80000000e-01 4.15000000e-01]]\n"
     ]
    }
   ],
   "source": [
    "kmeans = KMeans(n_clusters=3)\n",
    "clusters = kmeans.fit(X).labels_\n",
    "centers = kmeans.cluster_centers_\n",
    "table = np.unique(clusters,return_counts=True)\n",
    "print('Cluster Sizes :')\n",
    "print(table)\n",
    "print('Cluster centers :')\n",
    "print(centers)"
   ]
  },
  {
   "cell_type": "code",
   "execution_count": 29,
   "metadata": {},
   "outputs": [
    {
     "name": "stdout",
     "output_type": "stream",
     "text": [
      "Companies in group 0 :\n-----------------------------------\n['LG Health' 'NHN' 'NamYang' 'Lotte food' 'Samsung Electronics'\n 'YoungPoong' 'Ottoogi' 'Orion' 'Crown' 'TaeGwang']\n\n\nCompanies in group 1 :\n-----------------------------------\n['BNK-FINANCE' 'CJ' 'CJ Daehan' 'CJ Cheil' 'GKL' 'GS' 'GS Retail'\n 'KB Finance' 'KCC' 'KT' 'KT&G' 'LF Mall' 'LG' 'LG Display' 'LG Corp'\n 'LG Life' 'LG UPlus' 'LG Innotech' 'LG Electronics' 'LG Housys' 'LG Chem'\n 'LS' 'LS Indus' 'NH Finance' 'OCI' 'POSCO' 'S&T Motiv' 'S&T Heavy' 'SBS'\n 'SK C&C' 'SKC' 'SK Network' 'SK Innovation' 'SK Chemical' 'SK Telecom'\n 'SK Hynix' 'S-Oil' 'Kangwon Land' 'KyungBang' 'Korea Zinc' 'Korea Iron'\n 'GwangDong' 'GookDo Chem' 'Kumho Oil' 'KumHo Tire' 'Kia Motors'\n 'Company Bank' 'NamHae Chem' 'Nexxen Tire' 'Green Cross' 'NongShim'\n 'DaeGyo' 'DaeDuck' 'DaeLim' 'DaeSang' 'Daewoo Const'\n 'Daewoo International' 'DSME' 'Daewoo Finance' 'Daewoong Medical'\n 'Daehan' 'KAL' 'DongKook' 'DongBu Insurance' 'DongAh Socio' 'DongAh ST'\n 'DongAh Tire' 'DongWon F&B' 'DongWon Systems' 'Doosan' 'Doosan Engine'\n 'Doosan Infracore' 'Doosan Heavy' 'Lock and Lock' 'Lotte Shoping'\n 'Lotte Chemical' 'Motonik' 'Moorim P&P' 'Moohak' 'Marae Asset'\n 'Basic House' 'Boogwang Medical' 'Bingre' 'Samgwang Glass' 'Samlip Food'\n 'Samsung SDI' 'Samsung Trade' 'Samsung Life' 'Samsung SDS'\n 'Samsung Engineering' 'Samsung Electric' 'Samsung Precisions'\n 'Samsung Heavy' 'Samsung Finance' 'Samsung Card' 'Samsung Insurance'\n 'SamYang' 'SamYang Holdings' 'SeoYeon' 'SeoHung' 'SeBang' 'Seah Bestil'\n 'Seah Iron' 'Sejong' 'Shindo-Ricoh' 'Shinsegae' 'Shinhan Jiju'\n 'SSangYong' 'SSangYong Car' 'ISS DongSuh' 'ISL' 'S1' 'Able C&C' 'NC Soft'\n 'YoungWon' 'YoungJin' 'Woori' 'Unid' 'Yuhan' 'EMart' 'Ildong Medical'\n 'Ilshin' 'IlYnag MEdical' 'Iljin Materials' 'Jeil Planification'\n 'JoGwang Leather' 'Chosun' 'ChongGeunDang' 'KosMAx' 'KoLon' 'Koway'\n 'Pamsco' 'PoongSan' 'Hana Finance' 'Hite Jinro' 'Hite Jinro Holdings'\n 'Korea Gas' 'Korea Fianance' 'Korea Danja' 'Korea Shell' 'Kepco'\n 'Korea Steel' 'Korea Colma' 'Korea Tire' 'Korea Tire WW' 'Korea Aero'\n 'Hanla' 'Hanmi Semiconductors' 'Hanmi Medical' 'HanSaem' 'HanSeom'\n 'Hanse' 'Hansol Chemical' 'Hansol Technics' 'Hansol Holdings'\n 'Hanon System' 'Hanil Cement' 'KPS' 'KEPCO Tech' 'Hanjin heavy' 'Hanhwa'\n 'Hanhwa Life' 'Hanhwa Chemical' 'Hanhwa Techwin' 'Hyundai Construction'\n 'Hyundai Green Food' 'Hyundai Globis' 'Hyundai Rotem' 'Hyundai Livart'\n 'Hyundai Mobis' 'Hyundai Mipo' 'Hyundal Mall' 'Hyundai Industries'\n 'Hyundai Shipping' 'Hyundai Elevator' 'Hyundai Wia' 'Hyundai Steel'\n 'Hyundai Heavy' 'Hyundai Finance' 'Hyundai Motors' 'Hotel Silla'\n 'Hwashin' 'Hyosung' 'Foosung' 'Hubis' 'HuChems']\n\n\nCompanies in group 2 :\n-----------------------------------\n['Lotte Pastry' 'Lotte Chilsung']\n\n\n"
     ]
    }
   ],
   "source": [
    "for i in range(3):\n",
    "    print(\"Companies in group {} :\".format(i))\n",
    "    print(\"-----------------------------------\")\n",
    "    print(companies[clusters==i])\n",
    "    print (\"\\n\")"
   ]
  },
  {
   "cell_type": "markdown",
   "metadata": {},
   "source": [
    "#### \"Total Sum of Squares Within\"을 계산하여 최적화된 클러스터 갯수를 알아낸다."
   ]
  },
  {
   "cell_type": "code",
   "execution_count": 37,
   "metadata": {},
   "outputs": [],
   "source": [
    "# 각 클러스터의 중심점과 각 클러스터의 데이터들과의 거리의 합 : tss \n",
    "def total_ss_within(X, centers, clusters):\n",
    "    N_clusters = centers.shape[0]\n",
    "    N_columns = centers.shape[1]\n",
    "    N_rows = X.shape[0]\n",
    "    ref_centers = np.zeros((N_rows, N_columns))\n",
    "    for n in range(N_clusters):\n",
    "        indices = (clusters == n)\n",
    "        for j in range(N_columns):\n",
    "            ref_centers[indices,j] = centers[n,j]\n",
    "    return np.sum((X-ref_centers)**2.0)"
   ]
  },
  {
   "cell_type": "markdown",
   "metadata": {},
   "source": [
    "#### Kmeans 최근종가,수익률, 리스크, 베타 기준으로 클러스터 갯수의 최적화:"
   ]
  },
  {
   "cell_type": "code",
   "execution_count": 51,
   "metadata": {},
   "outputs": [
    {
     "name": "stdout",
     "output_type": "stream",
     "text": [
      "      PRICE  RETURN  RISK  BETA\n0   14450.0   -0.11  0.34 -0.14\n1  261000.0    0.50  0.49  1.07\n2  200000.0    0.03  0.39  0.55\n"
     ]
    }
   ],
   "source": [
    "X=np.array(df.iloc[:,[2,3,4,5]])\n",
    "print(df.iloc[:3,[2,3,4,5]])"
   ]
  },
  {
   "cell_type": "code",
   "execution_count": 52,
   "metadata": {},
   "outputs": [],
   "source": [
    "# 클러스터의 개수가 늘어날 수록, tss는 작아질 것이다. 하지만, 점점 작게 줄어들 것이다.\n",
    "# 그리고, 클러스터의 개수가 많으면, 각 클러스터의 특성을 나타내는데 낭비가 생겨나게 된다.\n",
    "# 그러므로 tss를 이용해, 변곡점을 찾아 최적의 클러스터 개수를 구한다.\n",
    "n_cluster = np.array(range(2,20))\n",
    "total_ssw = np.array([])\n",
    "for n in n_cluster:\n",
    "    kmeans = KMeans(n_clusters=n)\n",
    "    clusters = kmeans.fit(X).labels_\n",
    "    centers = kmeans.cluster_centers_ # 각 클러스터의 중심점\n",
    "    total_ssw = np.append(total_ssw, total_ss_within(X,centers,clusters)) # 각 n개의 클러스터의 중심점~~요소들 거리의 합"
   ]
  },
  {
   "cell_type": "code",
   "execution_count": 45,
   "metadata": {
    "collapsed": false
   },
   "outputs": [
    {
     "data": {
      "image/png": "[encoded data removed]",
      "text/plain": [
       "<Figure size 432x288 with 1 Axes>"
      ]
     },
     "metadata": {},
     "output_type": "display_data"
    }
   ],
   "source": [
    "# 변곡점이 4~5에서 나타나기 때문에, 최적의 클러스터 개수는 4개 또는 5개이다.\n",
    "plt.plot(n_cluster,total_ssw,color='blue',marker='o',linestyle='dashed',linewidth=1,markersize=5)\n",
    "plt.show()"
   ]
  },
  {
   "cell_type": "code",
   "execution_count": null,
   "metadata": {},
   "outputs": [],
   "source": []
  }
 ],
 "metadata": {
  "kernelspec": {
   "display_name": "Python 3",
   "language": "python",
   "name": "python3"
  },
  "language_info": {
   "codemirror_mode": {
    "name": "ipython",
    "version": 3
   },
   "file_extension": ".py",
   "mimetype": "text/x-python",
   "name": "python",
   "nbconvert_exporter": "python",
   "pygments_lexer": "ipython3",
   "version": "3.6.5"
  }
 },
 "nbformat": 4,
 "nbformat_minor": 2
}
