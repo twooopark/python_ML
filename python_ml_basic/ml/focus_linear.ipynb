{
 "cells": [
  {
   "cell_type": "markdown",
   "metadata": {},
   "source": [
    "### OLS 선형회귀 "
   ]
  },
  {
   "cell_type": "markdown",
   "metadata": {},
   "source": [
    "OLS 선형회귀 포커스 프로젝트에 온것을 환영합니다^^ <br>\n",
    "여기에서는 OLS 선형회귀를 적용하여 자동차의 연비에 대한 물음에 답하게 됩니다. <br>"
   ]
  },
  {
   "cell_type": "markdown",
   "metadata": {},
   "source": [
    "#### 목표\n",
    "- 선형대수학을 응용한 선형회귀 계산.\n",
    "- 회귀계수, 회귀계수의 표준오차, 통계량, t-테스트.\n",
    "- 정보량, 결정계수 계산.\n",
    "- 모형의 최적화와 데이터에 대한 물음에 답하기."
   ]
  },
  {
   "cell_type": "markdown",
   "metadata": {},
   "source": [
    "#### 필요한 패키지를 읽어 옵니다"
   ]
  },
  {
   "cell_type": "code",
   "execution_count": null,
   "metadata": {},
   "outputs": [],
   "source": [
    "import numpy as np\n",
    "import pandas as pd\n",
    "import matplotlib.pyplot as plt\n",
    "from scipy.stats import t\n",
    "import os\n",
    "%matplotlib inline"
   ]
  },
  {
   "cell_type": "markdown",
   "metadata": {},
   "source": [
    "#### 트레이닝/테스팅 데이터 읽어오기"
   ]
  },
  {
   "cell_type": "code",
   "execution_count": null,
   "metadata": {},
   "outputs": [],
   "source": [
    "os.chdir(r\"C:\\Users\\sycha_000\\Documents\\교육사업\\데이터 2018\\비트교육센터\\20180717_머신러닝 알고리즘과 응용\\data\")\n",
    "df = pd.read_csv('data_mtcars.csv', header='infer',encoding='latin1')"
   ]
  },
  {
   "cell_type": "markdown",
   "metadata": {},
   "source": [
    "#### Linear Regression 클래스 정의"
   ]
  },
  {
   "cell_type": "code",
   "execution_count": null,
   "metadata": {},
   "outputs": [],
   "source": [
    "class linearRegression:\n",
    "    def __init__(self, input_df):\n",
    "        self.df = input_df\n",
    "        self.all_features = list(df.drop(columns=['model','mpg']).columns)\n",
    "        return\n",
    "        \n",
    "    def train(self, features):\n",
    "        input_X = ((self.df).drop(columns=['model','mpg'])).loc[:,features]\n",
    "        input_Y = df.loc[:,'mpg']\n",
    "        ones_column = np.ones((input_X.shape[0],1))\n",
    "        X = np.concatenate((ones_column,input_X),axis=1)\n",
    "        Y = np.array(input_Y).reshape(-1,1)\n",
    "        self.N = X.shape[0]\n",
    "        self.p = X.shape[1]\n",
    "        self.df = self.N - self.p\n",
    "        \n",
    "        # Regression Coefficients\n",
    "        self.beta = np.dot(np.linalg.inv(np.dot(X.T,X)),np.dot(X.T,Y))\n",
    "        \n",
    "        # Residuals\n",
    "        self.residuals = Y - np.dot(X,self.beta)\n",
    "        \n",
    "        # R^2\n",
    "        SSE = np.dot((self.residuals).T, self.residuals)\n",
    "        SST = np.dot((Y - Y.mean()).T, (Y-Y.mean()))\n",
    "        self.rsquared = 1.0 - SSE[0][0]/SST[0][0]\n",
    "        \n",
    "        # Standard Errors\n",
    "        s2 = SSE/self.df\n",
    "        Qinv = np.linalg.inv(np.dot(X.T,X))\n",
    "        self.se = np.sqrt(s2*np.diag(Qinv).reshape(-1,1))\n",
    "        self.tvals = self.beta/self.se\n",
    "        self.pvals = (1.0-t.cdf(np.abs(self.tvals), self.df))*2.0\n",
    "        \n",
    "        # Summary\n",
    "        self.summary=pd.DataFrame(np.concatenate([self.beta,self.se,self.tvals,self.pvals],axis=1))\n",
    "        self.summary.columns =['Beta','Std. Error','t-value','p-value']\n",
    "        self.summary.index = ['intercept'] + features \n",
    "        \n",
    "        # AIC\n",
    "        self.AIC = (1.0 + np.log(2*np.pi) + np.log(SSE[0][0]/self.N)) + 2.0*self.p/self.N\n",
    "        return  \n",
    "    \n",
    "    def output(self):\n",
    "        print(self.summary)\n",
    "        print(\"--------------------------------------------------------------\")\n",
    "        print(\"DF  : %d\" % self.df)\n",
    "        print(\"R^2 : %f\" % self.rsquared)\n",
    "        print(\"AIC : %f\" % self.AIC)\n"
   ]
  },
  {
   "cell_type": "markdown",
   "metadata": {},
   "source": [
    "#### 상관계수 행렬"
   ]
  },
  {
   "cell_type": "code",
   "execution_count": null,
   "metadata": {},
   "outputs": [],
   "source": [
    "np.round(df.corr(),3)"
   ]
  },
  {
   "cell_type": "markdown",
   "metadata": {},
   "source": [
    "#### 선형회귀 예"
   ]
  },
  {
   "cell_type": "code",
   "execution_count": null,
   "metadata": {},
   "outputs": [],
   "source": [
    "LR = linearRegression(df)\n",
    "LR.train(['am'])\n",
    "LR.output()"
   ]
  },
  {
   "cell_type": "markdown",
   "metadata": {},
   "source": [
    "#### 이제는 모형을 최적화하여 변속기 타입에 의한 연비차이에 대해서 답하시오. "
   ]
  },
  {
   "cell_type": "code",
   "execution_count": null,
   "metadata": {},
   "outputs": [],
   "source": []
  }
 ],
 "metadata": {
  "kernelspec": {
   "display_name": "Python 3",
   "language": "python",
   "name": "python3"
  },
  "language_info": {
   "codemirror_mode": {
    "name": "ipython",
    "version": 3
   },
   "file_extension": ".py",
   "mimetype": "text/x-python",
   "name": "python",
   "nbconvert_exporter": "python",
   "pygments_lexer": "ipython3",
   "version": "3.6.5"
  }
 },
 "nbformat": 4,
 "nbformat_minor": 2
}
