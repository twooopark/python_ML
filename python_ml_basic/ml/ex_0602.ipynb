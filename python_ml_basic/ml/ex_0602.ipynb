{
 "cells": [
  {
   "cell_type": "markdown",
   "metadata": {},
   "source": [
    "## 결정 트리, 랜덤 포레스트, 에이다부스트. \n",
    "#### 필요한 패키지를 불러온다:"
   ]
  },
  {
   "cell_type": "code",
   "execution_count": 1,
   "metadata": {},
   "outputs": [],
   "source": [
    "%matplotlib inline\n",
    "import numpy as np\n",
    "import pandas as pd\n",
    "import matplotlib.pyplot as plt\n",
    "import os\n",
    "from sklearn.model_selection import train_test_split,RandomizedSearchCV, GridSearchCV\n",
    "from sklearn.tree import DecisionTreeClassifier\n",
    "from sklearn.ensemble import RandomForestClassifier\n",
    "from sklearn.ensemble import AdaBoostClassifier\n",
    "from sklearn.svm import SVC\n",
    "from sklearn import metrics, preprocessing\n",
    "#from scipy.stats import itemfreq"
   ]
  },
  {
   "cell_type": "markdown",
   "metadata": {},
   "source": [
    "#### 데이터를 불러온다:"
   ]
  },
  {
   "cell_type": "code",
   "execution_count": 26,
   "metadata": {},
   "outputs": [],
   "source": [
    "os.chdir(r\"D:\\python_ML\\python_ml_basic\\data\")"
   ]
  },
  {
   "cell_type": "code",
   "execution_count": 27,
   "metadata": {},
   "outputs": [],
   "source": [
    "# df = pd.read_csv('data_spam.csv', header='infer',encoding='ISO-8859-1')\n",
    "df = pd.read_csv('data_spam.csv', header='infer',encoding='latin1')"
   ]
  },
  {
   "cell_type": "code",
   "execution_count": 28,
   "metadata": {},
   "outputs": [
    {
     "data": {
      "text/plain": [
       "array([3.227e+03, 1.060e+00, 2.600e-01, 0.000e+00, 0.000e+00, 0.000e+00,\n       0.000e+00, 0.000e+00, 0.000e+00, 0.000e+00, 0.000e+00, 0.000e+00,\n       0.000e+00, 0.000e+00, 0.000e+00, 0.000e+00, 0.000e+00, 0.000e+00,\n       0.000e+00, 0.000e+00, 0.000e+00, 0.000e+00, 0.000e+00, 1.850e+00,\n       2.600e-01, 0.000e+00, 0.000e+00, 0.000e+00, 0.000e+00, 0.000e+00,\n       0.000e+00, 2.600e-01, 0.000e+00, 0.000e+00, 7.700e+01, 0.000e+00,\n       0.000e+00, 0.000e+00, 0.000e+00, 1.720e+02, 0.000e+00, 0.000e+00,\n       0.000e+00, 5.300e-01, 0.000e+00, 2.600e-01, 0.000e+00, 0.000e+00,\n       0.000e+00, 0.000e+00, 0.000e+00, 0.000e+00, 0.000e+00, 0.000e+00,\n       2.646e+00, 0.000e+00, 0.000e+00, 0.000e+00, 0.000e+00, 0.000e+00,\n       0.000e+00, 3.900e-02])"
      ]
     },
     "execution_count": 28,
     "metadata": {},
     "output_type": "execute_result"
    }
   ],
   "source": [
    "# 스팸이 없는거 X, 있는거 Y\n",
    "X=np.array(df.drop(columns='is_spam'))\n",
    "Y=np.array(df.is_spam)\n",
    "header = df.columns\n",
    "headerX = df.drop(columns='is_spam').columns\n",
    "X[0]"
   ]
  },
  {
   "cell_type": "markdown",
   "metadata": {},
   "source": [
    "'yes', 'no' 레이블을 숫자로 변환:"
   ]
  },
  {
   "cell_type": "code",
   "execution_count": 29,
   "metadata": {},
   "outputs": [],
   "source": [
    "LE = preprocessing.LabelEncoder()\n",
    "Y = LE.fit_transform(Y)"
   ]
  },
  {
   "cell_type": "code",
   "execution_count": 30,
   "metadata": {},
   "outputs": [
    {
     "name": "stderr",
     "output_type": "stream",
     "text": [
      "D:\\python_ML\\venv\\lib\\site-packages\\ipykernel_launcher.py:1: DeprecationWarning: `itemfreq` is deprecated!\n`itemfreq` is deprecated and will be removed in a future version. Use instead `np.unique(..., return_counts=True)`\n  \"\"\"Entry point for launching an IPython kernel.\n"
     ]
    },
    {
     "data": {
      "text/plain": [
       "array([[  0, 736],\n       [  1, 264]], dtype=int64)"
      ]
     },
     "execution_count": 30,
     "metadata": {},
     "output_type": "execute_result"
    }
   ],
   "source": [
    "table = np.unique(Y, return_counts=True)\n",
    "table"
   ]
  },
  {
   "cell_type": "markdown",
   "metadata": {},
   "source": [
    "NaN이 있으면 채워 넣음:"
   ]
  },
  {
   "cell_type": "code",
   "execution_count": 54,
   "metadata": {},
   "outputs": [],
   "source": [
    "IPT = preprocessing.Imputer()\n",
    "X = IPT.fit_transform(X)"
   ]
  },
  {
   "cell_type": "markdown",
   "metadata": {},
   "source": [
    "#### 데이터 전처리: (표준화: 데이터 값에 평균 값을 빼고, 표준편차로 나눈다.)"
   ]
  },
  {
   "cell_type": "code",
   "execution_count": 63,
   "metadata": {},
   "outputs": [
    {
     "data": {
      "text/plain": [
       "array([ 0.72081963,  0.57997077,  1.07666106, -0.1484211 , -0.40356631,\n       -0.16247803, -0.27369412, -0.25788466, -0.18924522, -0.38261257,\n       -0.17878278, -0.35573957,  0.        , -0.06745704, -0.29700331,\n       -0.15878435, -0.17192509, -0.12911575,  0.        , -0.07629109,\n       -0.04908179, -0.25303435, -0.31342578,  2.24186126,  0.90814171,\n       -0.26125725, -0.36128802, -0.16370869, -0.32656806, -0.14422008,\n       -0.40541109,  0.45275325, -0.16496962, -0.20187996,  0.28191107,\n       -0.15188341, -0.30280737, -0.10393389, -0.22533266, -0.14915475,\n       -0.1766068 , -0.58868114, -0.24449336,  0.50935817, -0.91104217,\n       -0.04461139,  0.        , -0.17890472, -0.2445704 , -0.16846357,\n       -0.32582265, -0.15286473, -0.24685195, -0.25025996, -0.06632812,\n       -0.15933516, -0.26808941,  0.        ,  0.        , -0.1111584 ,\n       -0.24558099, -0.433543  ])"
      ]
     },
     "execution_count": 63,
     "metadata": {},
     "output_type": "execute_result"
    }
   ],
   "source": [
    "X = preprocessing.scale(X)\n",
    "X[0]"
   ]
  },
  {
   "cell_type": "code",
   "execution_count": 64,
   "metadata": {},
   "outputs": [],
   "source": [
    "X_train, X_test, Y_train, Y_test = train_test_split(X, Y, test_size=0.5, random_state=3)"
   ]
  },
  {
   "cell_type": "markdown",
   "metadata": {},
   "source": [
    "#### Tree 적용 (교차검증 최적화 포함):"
   ]
  },
  {
   "cell_type": "code",
   "execution_count": 65,
   "metadata": {},
   "outputs": [],
   "source": [
    "depth_grid = np.arange(2,31,2)\n",
    "parameters = {'max_depth':depth_grid}"
   ]
  },
  {
   "cell_type": "code",
   "execution_count": 75,
   "metadata": {},
   "outputs": [],
   "source": [
    "# CV(Cross Validation) 교차검증\n",
    "gridCV = GridSearchCV(DecisionTreeClassifier(), parameters, cv=10)\n",
    "gridCV.fit(X_train, Y_train);\n",
    "best_depth = gridCV.best_params_['max_depth']"
   ]
  },
  {
   "cell_type": "code",
   "execution_count": 76,
   "metadata": {},
   "outputs": [
    {
     "name": "stdout",
     "output_type": "stream",
     "text": [
      "Tree best depth : 10\n"
     ]
    }
   ],
   "source": [
    "print(\"Tree best depth : \" + str(best_depth))"
   ]
  },
  {
   "cell_type": "code",
   "execution_count": 49,
   "metadata": {},
   "outputs": [
    {
     "name": "stdout",
     "output_type": "stream",
     "text": [
      "Tree best accuracy : 0.89\n"
     ]
    }
   ],
   "source": [
    "DTC_best = DecisionTreeClassifier(max_depth=best_depth)\n",
    "DTC_best.fit(X_train, Y_train);\n",
    "Y_pred = DTC_best.predict(X_test)\n",
    "print( \"Tree best accuracy : \" + str(np.round(metrics.accuracy_score(Y_test,Y_pred),3)))"
   ]
  },
  {
   "cell_type": "markdown",
   "metadata": {},
   "source": [
    "#### Random Forest 적용 (교차검증 최적화 포함):"
   ]
  },
  {
   "cell_type": "markdown",
   "metadata": {},
   "source": [
    "Tree 하고는 스텝에서 조금 차이가 있음:"
   ]
  },
  {
   "cell_type": "code",
   "execution_count": null,
   "metadata": {},
   "outputs": [],
   "source": [
    "estimator_grid = np.arange(1, 30, 5)\n",
    "depth_grid = np.arange(1, 10, 2)\n",
    "parameters = {'n_estimators': estimator_grid, 'max_depth': depth_grid}\n",
    "gridCV = GridSearchCV(RandomForestClassifier(), param_grid=parameters, cv=10)\n",
    "gridCV.fit(X_train, Y_train)\n",
    "best_n_estim = gridCV.best_params_['n_estimators']\n",
    "best_depth = gridCV.best_params_['max_depth']"
   ]
  },
  {
   "cell_type": "code",
   "execution_count": null,
   "metadata": {},
   "outputs": [],
   "source": [
    "print(\"Random Forest best n estimator : \" + str(best_n_estim))\n",
    "print(\"Random Forest best depth : \" + str(best_depth))"
   ]
  },
  {
   "cell_type": "code",
   "execution_count": null,
   "metadata": {},
   "outputs": [],
   "source": [
    "RF_best = RandomForestClassifier(max_depth=best_depth,n_estimators=best_n_estim,random_state=3)\n",
    "RF_best.fit(X_train, Y_train);\n",
    "Y_pred = RF_best.predict(X_test)\n",
    "print( \"Random Forest best accuracy : \" + str(np.round(metrics.accuracy_score(Y_test,Y_pred),3)))"
   ]
  },
  {
   "cell_type": "markdown",
   "metadata": {},
   "source": [
    "#### AdaBoost 적용 (교차검증 최적화 포함): <br>\n",
    "디폴트: base_estimator=DecisionTreeClassifier "
   ]
  },
  {
   "cell_type": "code",
   "execution_count": null,
   "metadata": {},
   "outputs": [],
   "source": [
    "estimator_grid = np.arange(30, 80, 10)\n",
    "learning_rate_grid = np.array([0.1,0.2,0.3,0.4,0.5,0.6,0.7,0.8,0.9])\n",
    "parameters = {'n_estimators': estimator_grid, 'learning_rate': learning_rate_grid}\n",
    "gridCV = GridSearchCV(AdaBoostClassifier(), param_grid=parameters, cv=10)\n",
    "gridCV.fit(X_train, Y_train)\n",
    "best_n_estim = gridCV.best_params_['n_estimators']\n",
    "best_learn_rate = gridCV.best_params_['learning_rate']"
   ]
  },
  {
   "cell_type": "code",
   "execution_count": null,
   "metadata": {},
   "outputs": [],
   "source": [
    "print(\"Ada Boost best n estimator : \" + str(best_n_estim))\n",
    "print(\"Ada Boost best learning rate : \" + str(best_learn_rate))"
   ]
  },
  {
   "cell_type": "code",
   "execution_count": null,
   "metadata": {},
   "outputs": [],
   "source": [
    "AB_best = AdaBoostClassifier(n_estimators=best_n_estim,learning_rate=best_learn_rate,random_state=3)\n",
    "AB_best.fit(X_train, Y_train);\n",
    "Y_pred = AB_best.predict(X_test)\n",
    "print( \"Ada Boost best accuracy : \" + str(np.round(metrics.accuracy_score(Y_test,Y_pred),3)))"
   ]
  }
 ],
 "metadata": {
  "kernelspec": {
   "display_name": "Python 3",
   "language": "python",
   "name": "python3"
  },
  "language_info": {
   "codemirror_mode": {
    "name": "ipython",
    "version": 3
   },
   "file_extension": ".py",
   "mimetype": "text/x-python",
   "name": "python",
   "nbconvert_exporter": "python",
   "pygments_lexer": "ipython3",
   "version": "3.6.5"
  }
 },
 "nbformat": 4,
 "nbformat_minor": 2
}
