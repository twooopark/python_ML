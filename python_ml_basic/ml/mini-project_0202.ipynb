{
 "cells": [
  {
   "cell_type": "markdown",
   "metadata": {},
   "source": [
    "### 다음 물음에 답하는 코드를 작성하시오. "
   ]
  },
  {
   "cell_type": "markdown",
   "metadata": {},
   "source": [
    "1). A학급의 학생 이름은 다음과 같다:\n",
    "\n",
    "Bob <br>\n",
    "John <br>\n",
    "Sara <br>\n",
    "Jack <br>\n",
    "John <br>\n",
    "Paul <br>\n",
    "Belinda <br>\n",
    "Jessica <br>\n",
    "\n",
    "위 자료를 리스트 a로 정리해본다."
   ]
  },
  {
   "cell_type": "code",
   "execution_count": null,
   "metadata": {},
   "outputs": [],
   "source": []
  },
  {
   "cell_type": "markdown",
   "metadata": {},
   "source": [
    "학생 이름을 대문자화 한 리스트 A를 만들어 보시오."
   ]
  },
  {
   "cell_type": "code",
   "execution_count": null,
   "metadata": {},
   "outputs": [],
   "source": []
  },
  {
   "cell_type": "markdown",
   "metadata": {},
   "source": [
    "2). A학급의 학생 이름은 다음과 같다:\n",
    "\n",
    "John <br>\n",
    "John <br>\n",
    "Rebecca <br>\n",
    "Paula <br>\n",
    "Brandon <br>\n",
    "Elilzabeth <br>\n",
    "Sara <br>\n",
    "\n",
    "A학급과 같은 방법으로 대문자화 한 리스트 B를 만들어 보시오."
   ]
  },
  {
   "cell_type": "code",
   "execution_count": null,
   "metadata": {},
   "outputs": [],
   "source": []
  },
  {
   "cell_type": "markdown",
   "metadata": {},
   "source": [
    "3). A학급과 B학급 명부를 통합한 리스트 AB를 만든다. (이어 붙이기) <br>\n",
    "\n",
    "전체 학생수는?"
   ]
  },
  {
   "cell_type": "code",
   "execution_count": null,
   "metadata": {},
   "outputs": [],
   "source": []
  },
  {
   "cell_type": "markdown",
   "metadata": {},
   "source": [
    "4). 통합 리스트 AB를 알파벳 순으로 정렬해 본다."
   ]
  },
  {
   "cell_type": "code",
   "execution_count": null,
   "metadata": {},
   "outputs": [],
   "source": []
  },
  {
   "cell_type": "markdown",
   "metadata": {},
   "source": [
    "5). 통합 리스트 AB에서 서로 다른 이름의 가짓수는?"
   ]
  },
  {
   "cell_type": "code",
   "execution_count": null,
   "metadata": {},
   "outputs": [],
   "source": []
  },
  {
   "cell_type": "markdown",
   "metadata": {},
   "source": [
    "6). 통합 리스트 AB에서 'J'로 시작하는 이름만 출력해 본다. "
   ]
  },
  {
   "cell_type": "code",
   "execution_count": null,
   "metadata": {},
   "outputs": [],
   "source": []
  },
  {
   "cell_type": "markdown",
   "metadata": {},
   "source": [
    "7). 통합 리스트 AB에서 'A'로 끝나는 이름만 출력해 본다."
   ]
  },
  {
   "cell_type": "code",
   "execution_count": null,
   "metadata": {},
   "outputs": [],
   "source": []
  }
 ],
 "metadata": {
  "kernelspec": {
   "display_name": "Python 3",
   "language": "python",
   "name": "python3"
  },
  "language_info": {
   "codemirror_mode": {
    "name": "ipython",
    "version": 3
   },
   "file_extension": ".py",
   "mimetype": "text/x-python",
   "name": "python",
   "nbconvert_exporter": "python",
   "pygments_lexer": "ipython3",
   "version": "3.6.5"
  }
 },
 "nbformat": 4,
 "nbformat_minor": 2
}
